{
 "cells": [
  {
   "cell_type": "markdown",
   "metadata": {},
   "source": [
    "# Memory Tracking"
   ]
  },
  {
   "cell_type": "code",
   "execution_count": null,
   "metadata": {
    "collapsed": true
   },
   "outputs": [],
   "source": [
    "# TEST CASES #\n",
    "\n",
    "# DE NOVO - REDUCED (21 test)- success #\n",
    "       JobID    JobName  Partition      State     ReqMem     MaxRSS  MaxVMSize    Elapsed AveCPUFreq \n",
    "------------ ---------- ---------- ---------- ---------- ---------- ---------- ---------- ---------- \n",
    "1298804.bat+      batch   large-sha+   COMPLETED     1000Gn 925662864K 927110200K   05:57:49    1.07T \n",
    "\t\t\t\t\t\t\t\t\t\t\t\t\t\t  ^ 925 GB\t ^ 927 GB\n",
    "\n",
    "# DE NOVO - ALL (21 test) #\n",
    "1313690.bat+      batch    large-sha+  COMPLETED     1000Gn 925662932K 927110200K 2-20:31:36    266.02G \n",
    "\t\t\t\t\t\t\t\t\t\t\t\t\t\t  ^ 925 GB\t ^ 927 GB\n",
    "\n",
    "# MAPPING - REDUCED (21 test - run attempt 1, killed by root for comet maintenance) #\n",
    "1327363.bat+      batch  large-sha+  CANCELLED      120Gn 125997656K 155374224+ 1-02:25:06      2.95G \n",
    "\t\t\t\t\t\t\t\t\t\t\t\t\t\t  ^ 125 GB    ^ 155 GB       \n",
    "\n",
    "# MAPPING - REDUCED (21 test - run attempt 2) #\n",
    "1357247.bat+      batch   large-sha+ COMPLETED      500Gn 524261284K 577877232+ 3-22:09:41      1.49G\n",
    "        \n",
    "####################################################################################################################\n",
    "\n",
    "# BULK PROCESSING # (updated 12/14/15)\n",
    "\n",
    "# Gadwall #\n",
    "1357623.bat+      batch             COMPLETED     1000Gn 925662268K 927110220K 1-22:22:32      8.23G \n",
    "\n",
    "# Housefinch #\n",
    "1357625.bat+      batch             COMPLETED     1000Gn 925662268K 927110220K 1-02:02:31      1.33G \n",
    "\n",
    "# Gray Cat #\n",
    "1357627.bat+      batch             COMPLETED     1000Gn 925662264K 927110220K 1-11:43:00      3.10G \n",
    "\n",
    "# Spotted Sandpiper #\n",
    "1357629.bat+      batch             COMPLETED     1000Gn 925662268K 927110220K 1-04:47:58      2.33G \n",
    "\n",
    "# Northern Cardinal #\n",
    "1357631      Trinity.P+ large-sha+    PENDING     1000Gn                         00:00:00            \n"
   ]
  },
  {
   "cell_type": "markdown",
   "metadata": {},
   "source": [
    "# Tracking Hand-curated Fail Case Instances"
   ]
  },
  {
   "cell_type": "code",
   "execution_count": null,
   "metadata": {
    "collapsed": true
   },
   "outputs": [],
   "source": [
    "# Failed Buttefly command Count\n",
    "\n",
    "   6 /oasis/scratch/comet/jmccorri/temp_project/LONGEVITY/004_IN_SILICO_DE_NOVO_6a/trinity_out_dir/failed_butterfly_commands.70696.txt\n",
    "   7 BULK/Gadwall_26/trinity_out_dir/failed_butterfly_commands.52721.txt\n",
    "   9 BULK/Gray_Catbird_28/trinity_out_dir/failed_butterfly_commands.43418.txt\n",
    "   4 BULK/House_Finch_37/trinity_out_dir/failed_butterfly_commands.85586.txt\n",
    "   9 BULK/Spotted_Sandpiper_30/trinity_out_dir/failed_butterfly_commands.88441.txt\n",
    "\n",
    "# Failed mapping alignment counts\n",
    "\n",
    "   12384 /oasis/scratch/comet/jmccorri/temp_project/LONGEVITY/001_REDUCED_CVG_TESTCASE_6a/MAPPING_chicken_20151120/trinity_out_dir/FailedCommands"
   ]
  },
  {
   "cell_type": "markdown",
   "metadata": {},
   "source": [
    "# De Novo Trinity Output Statistics"
   ]
  },
  {
   "cell_type": "code",
   "execution_count": null,
   "metadata": {
    "collapsed": true
   },
   "outputs": [],
   "source": [
    "# Test Case (All Data, 21 test case)\n",
    "\n",
    "o\tTotal trinity 'genes':\t\t6,590\n",
    "o\tTotal trinity transcripts:\t6,694\n",
    "o\tPercent GC: \t\t43.57\n",
    "o\tContig N50: \t\t226\n",
    "o\tTotal assembled bases: \t1,560,456\n",
    "\n",
    "# Test Case (Reduced, 21 test case)\n",
    "Permanent storage location:\n",
    "/projects/ps-jcvi2/schork-lab/projects/Miller_Bird_RNAseq/TEST_OUTPUT/DENOVO_Sample_6A_AllSequences_NoPreprocessing_20151228/\n",
    "o\tTotal trinity 'genes':\t\t26,869 (~x5)\n",
    "o\tTotal trinity transcripts:\t29,121\n",
    "o\tPercent GC: \t\t44.28\n",
    "o\tContig N50: \t\t603 (too big!)\n",
    "o\tTotal assembled bases: \t14,715,34"
   ]
  }
 ],
 "metadata": {
  "kernelspec": {
   "display_name": "Python 2",
   "language": "python",
   "name": "python2"
  },
  "language_info": {
   "codemirror_mode": {
    "name": "ipython",
    "version": 2
   },
   "file_extension": ".py",
   "mimetype": "text/x-python",
   "name": "python",
   "nbconvert_exporter": "python",
   "pygments_lexer": "ipython2",
   "version": "2.7.11"
  }
 },
 "nbformat": 4,
 "nbformat_minor": 0
}
