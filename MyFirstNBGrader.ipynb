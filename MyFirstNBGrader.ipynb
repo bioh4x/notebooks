{
 "cells": [
  {
   "cell_type": "markdown",
   "metadata": {},
   "source": [
    "# Intro to NBGrader\n",
    "**Jamison McCorrison - 2016**\n",
    "\n",
    "#### Resources\n",
    "\n",
    "1. [How it works... Examples of testing](http://nbgrader.readthedocs.org/en/stable/user_guide/04_autograding.html)\n",
    "    * For autograding assignments, you should have the submitted versions of students’ assignments organized as follows:\n",
    "        * > `submitted/{student_id}/{assignment_id}/{notebook_id}.ipynb`\n",
    "    * After running nbgrader autograde, the autograded version of the notebooks will be:\n",
    "        * > `autograded/{student_id}/{assignment_id}/{notebook_id}.ipynb`\n",
    "    * Additional auto-generated output files described below.\n",
    "    * Example student-completed output files ([1](http://nbgrader.readthedocs.org/en/stable/user_guide/submitted/Bitdiddle/Problem%20Set%201/Problem%201.html)) ([2](http://nbgrader.readthedocs.org/en/stable/user_guide/submitted/Hacker/Problem%20Set%201/Problem%201.html))\n",
    "1. [JupyterHub Config](http://nbgrader.readthedocs.org/en/stable/user_guide/11_jupyterhub_config.html)\n",
    "2. [nbGrader Manual](https://nbgrader.readthedocs.org/en/stable/)\n",
    "\n",
    "* * *\n",
    "\n",
    "# Step 1 : NBGrader (and Jupyter Toolbar) Install\n",
    "\n",
    "**Install methods:** (local)"
   ]
  },
  {
   "cell_type": "code",
   "execution_count": 17,
   "metadata": {
    "collapsed": false,
    "scrolled": true
   },
   "outputs": [
    {
     "name": "stdout",
     "output_type": "stream",
     "text": [
      "Requirement already up-to-date: nbgrader in ./lib/python2.7/site-packages\n",
      "Requirement already up-to-date: notebook in ./lib/python2.7/site-packages (from nbgrader)\n",
      "Requirement already up-to-date: Flask in ./lib/python2.7/site-packages (from nbgrader)\n",
      "Requirement already up-to-date: requests in ./lib/python2.7/site-packages (from nbgrader)\n",
      "Requirement already up-to-date: nbformat in ./lib/python2.7/site-packages (from nbgrader)\n",
      "Requirement already up-to-date: six in ./lib/python2.7/site-packages (from nbgrader)\n",
      "Requirement already up-to-date: jupyter-core in ./lib/python2.7/site-packages (from nbgrader)\n",
      "Requirement already up-to-date: traitlets in ./lib/python2.7/site-packages (from nbgrader)\n",
      "Requirement already up-to-date: nbconvert in ./lib/python2.7/site-packages (from nbgrader)\n",
      "Collecting sqlalchemy (from nbgrader)\n",
      "  Using cached SQLAlchemy-1.0.11.tar.gz\n",
      "Requirement already up-to-date: python-dateutil in ./lib/python2.7/site-packages (from nbgrader)\n",
      "Requirement already up-to-date: tornado in ./lib/python2.7/site-packages (from nbgrader)\n",
      "Requirement already up-to-date: pygments in ./lib/python2.7/site-packages (from nbconvert->nbgrader)\n",
      "Requirement already up-to-date: mistune!=0.6 in ./lib/python2.7/site-packages (from nbconvert->nbgrader)\n",
      "Requirement already up-to-date: jinja2 in ./lib/python2.7/site-packages (from nbconvert->nbgrader)\n",
      "Requirement already up-to-date: MarkupSafe in ./lib/python2.7/site-packages (from jinja2->nbconvert->nbgrader)\n",
      "Building wheels for collected packages: sqlalchemy\n",
      "  Running setup.py bdist_wheel for sqlalchemy\n",
      "  Complete output from command /Users/jmccorri/anaconda/bin/python -c \"import setuptools;__file__='/private/var/folders/gw/3yhx92_8_zsv53k2x0l_wb_c0002m4/T/pip-build-xovHqM/sqlalchemy/setup.py';exec(compile(open(__file__).read().replace('\\r\\n', '\\n'), __file__, 'exec'))\" bdist_wheel -d /var/folders/gw/3yhx92_8_zsv53k2x0l_wb_c0002m4/T/tmpDB4Mj2pip-wheel-:\n",
      "  running bdist_wheel\n",
      "  running build\n",
      "  running build_py\n",
      "  creating build\n",
      "  creating build/lib.macosx-10.5-x86_64-2.7\n",
      "  creating build/lib.macosx-10.5-x86_64-2.7/sqlalchemy\n",
      "  copying lib/sqlalchemy/__init__.py -> build/lib.macosx-10.5-x86_64-2.7/sqlalchemy\n",
      "  copying lib/sqlalchemy/events.py -> build/lib.macosx-10.5-x86_64-2.7/sqlalchemy\n",
      "  copying lib/sqlalchemy/exc.py -> build/lib.macosx-10.5-x86_64-2.7/sqlalchemy\n",
      "  copying lib/sqlalchemy/inspection.py -> build/lib.macosx-10.5-x86_64-2.7/sqlalchemy\n",
      "  copying lib/sqlalchemy/interfaces.py -> build/lib.macosx-10.5-x86_64-2.7/sqlalchemy\n",
      "  copying lib/sqlalchemy/log.py -> build/lib.macosx-10.5-x86_64-2.7/sqlalchemy\n",
      "  copying lib/sqlalchemy/pool.py -> build/lib.macosx-10.5-x86_64-2.7/sqlalchemy\n",
      "  copying lib/sqlalchemy/processors.py -> build/lib.macosx-10.5-x86_64-2.7/sqlalchemy\n",
      "  copying lib/sqlalchemy/schema.py -> build/lib.macosx-10.5-x86_64-2.7/sqlalchemy\n",
      "  copying lib/sqlalchemy/types.py -> build/lib.macosx-10.5-x86_64-2.7/sqlalchemy\n",
      "  creating build/lib.macosx-10.5-x86_64-2.7/sqlalchemy/connectors\n",
      "  copying lib/sqlalchemy/connectors/__init__.py -> build/lib.macosx-10.5-x86_64-2.7/sqlalchemy/connectors\n",
      "  copying lib/sqlalchemy/connectors/mxodbc.py -> build/lib.macosx-10.5-x86_64-2.7/sqlalchemy/connectors\n",
      "  copying lib/sqlalchemy/connectors/pyodbc.py -> build/lib.macosx-10.5-x86_64-2.7/sqlalchemy/connectors\n",
      "  copying lib/sqlalchemy/connectors/zxJDBC.py -> build/lib.macosx-10.5-x86_64-2.7/sqlalchemy/connectors\n",
      "  creating build/lib.macosx-10.5-x86_64-2.7/sqlalchemy/databases\n",
      "  copying lib/sqlalchemy/databases/__init__.py -> build/lib.macosx-10.5-x86_64-2.7/sqlalchemy/databases\n",
      "  creating build/lib.macosx-10.5-x86_64-2.7/sqlalchemy/dialects\n",
      "  copying lib/sqlalchemy/dialects/__init__.py -> build/lib.macosx-10.5-x86_64-2.7/sqlalchemy/dialects\n",
      "  copying lib/sqlalchemy/dialects/postgres.py -> build/lib.macosx-10.5-x86_64-2.7/sqlalchemy/dialects\n",
      "  creating build/lib.macosx-10.5-x86_64-2.7/sqlalchemy/dialects/firebird\n",
      "  copying lib/sqlalchemy/dialects/firebird/__init__.py -> build/lib.macosx-10.5-x86_64-2.7/sqlalchemy/dialects/firebird\n",
      "  copying lib/sqlalchemy/dialects/firebird/base.py -> build/lib.macosx-10.5-x86_64-2.7/sqlalchemy/dialects/firebird\n",
      "  copying lib/sqlalchemy/dialects/firebird/fdb.py -> build/lib.macosx-10.5-x86_64-2.7/sqlalchemy/dialects/firebird\n",
      "  copying lib/sqlalchemy/dialects/firebird/kinterbasdb.py -> build/lib.macosx-10.5-x86_64-2.7/sqlalchemy/dialects/firebird\n",
      "  creating build/lib.macosx-10.5-x86_64-2.7/sqlalchemy/dialects/mssql\n",
      "  copying lib/sqlalchemy/dialects/mssql/__init__.py -> build/lib.macosx-10.5-x86_64-2.7/sqlalchemy/dialects/mssql\n",
      "  copying lib/sqlalchemy/dialects/mssql/adodbapi.py -> build/lib.macosx-10.5-x86_64-2.7/sqlalchemy/dialects/mssql\n",
      "  copying lib/sqlalchemy/dialects/mssql/base.py -> build/lib.macosx-10.5-x86_64-2.7/sqlalchemy/dialects/mssql\n",
      "  copying lib/sqlalchemy/dialects/mssql/information_schema.py -> build/lib.macosx-10.5-x86_64-2.7/sqlalchemy/dialects/mssql\n",
      "  copying lib/sqlalchemy/dialects/mssql/mxodbc.py -> build/lib.macosx-10.5-x86_64-2.7/sqlalchemy/dialects/mssql\n",
      "  copying lib/sqlalchemy/dialects/mssql/pymssql.py -> build/lib.macosx-10.5-x86_64-2.7/sqlalchemy/dialects/mssql\n",
      "  copying lib/sqlalchemy/dialects/mssql/pyodbc.py -> build/lib.macosx-10.5-x86_64-2.7/sqlalchemy/dialects/mssql\n",
      "  copying lib/sqlalchemy/dialects/mssql/zxjdbc.py -> build/lib.macosx-10.5-x86_64-2.7/sqlalchemy/dialects/mssql\n",
      "  creating build/lib.macosx-10.5-x86_64-2.7/sqlalchemy/dialects/mysql\n",
      "  copying lib/sqlalchemy/dialects/mysql/__init__.py -> build/lib.macosx-10.5-x86_64-2.7/sqlalchemy/dialects/mysql\n",
      "  copying lib/sqlalchemy/dialects/mysql/base.py -> build/lib.macosx-10.5-x86_64-2.7/sqlalchemy/dialects/mysql\n",
      "  copying lib/sqlalchemy/dialects/mysql/cymysql.py -> build/lib.macosx-10.5-x86_64-2.7/sqlalchemy/dialects/mysql\n",
      "  copying lib/sqlalchemy/dialects/mysql/gaerdbms.py -> build/lib.macosx-10.5-x86_64-2.7/sqlalchemy/dialects/mysql\n",
      "  copying lib/sqlalchemy/dialects/mysql/mysqlconnector.py -> build/lib.macosx-10.5-x86_64-2.7/sqlalchemy/dialects/mysql\n",
      "  copying lib/sqlalchemy/dialects/mysql/mysqldb.py -> build/lib.macosx-10.5-x86_64-2.7/sqlalchemy/dialects/mysql\n",
      "  copying lib/sqlalchemy/dialects/mysql/oursql.py -> build/lib.macosx-10.5-x86_64-2.7/sqlalchemy/dialects/mysql\n",
      "  copying lib/sqlalchemy/dialects/mysql/pymysql.py -> build/lib.macosx-10.5-x86_64-2.7/sqlalchemy/dialects/mysql\n",
      "  copying lib/sqlalchemy/dialects/mysql/pyodbc.py -> build/lib.macosx-10.5-x86_64-2.7/sqlalchemy/dialects/mysql\n",
      "  copying lib/sqlalchemy/dialects/mysql/zxjdbc.py -> build/lib.macosx-10.5-x86_64-2.7/sqlalchemy/dialects/mysql\n",
      "  creating build/lib.macosx-10.5-x86_64-2.7/sqlalchemy/dialects/oracle\n",
      "  copying lib/sqlalchemy/dialects/oracle/__init__.py -> build/lib.macosx-10.5-x86_64-2.7/sqlalchemy/dialects/oracle\n",
      "  copying lib/sqlalchemy/dialects/oracle/base.py -> build/lib.macosx-10.5-x86_64-2.7/sqlalchemy/dialects/oracle\n",
      "  copying lib/sqlalchemy/dialects/oracle/cx_oracle.py -> build/lib.macosx-10.5-x86_64-2.7/sqlalchemy/dialects/oracle\n",
      "  copying lib/sqlalchemy/dialects/oracle/zxjdbc.py -> build/lib.macosx-10.5-x86_64-2.7/sqlalchemy/dialects/oracle\n",
      "  creating build/lib.macosx-10.5-x86_64-2.7/sqlalchemy/dialects/postgresql\n",
      "  copying lib/sqlalchemy/dialects/postgresql/__init__.py -> build/lib.macosx-10.5-x86_64-2.7/sqlalchemy/dialects/postgresql\n",
      "  copying lib/sqlalchemy/dialects/postgresql/base.py -> build/lib.macosx-10.5-x86_64-2.7/sqlalchemy/dialects/postgresql\n",
      "  copying lib/sqlalchemy/dialects/postgresql/constraints.py -> build/lib.macosx-10.5-x86_64-2.7/sqlalchemy/dialects/postgresql\n",
      "  copying lib/sqlalchemy/dialects/postgresql/hstore.py -> build/lib.macosx-10.5-x86_64-2.7/sqlalchemy/dialects/postgresql\n",
      "  copying lib/sqlalchemy/dialects/postgresql/json.py -> build/lib.macosx-10.5-x86_64-2.7/sqlalchemy/dialects/postgresql\n",
      "  copying lib/sqlalchemy/dialects/postgresql/pg8000.py -> build/lib.macosx-10.5-x86_64-2.7/sqlalchemy/dialects/postgresql\n",
      "  copying lib/sqlalchemy/dialects/postgresql/psycopg2.py -> build/lib.macosx-10.5-x86_64-2.7/sqlalchemy/dialects/postgresql\n",
      "  copying lib/sqlalchemy/dialects/postgresql/psycopg2cffi.py -> build/lib.macosx-10.5-x86_64-2.7/sqlalchemy/dialects/postgresql\n",
      "  copying lib/sqlalchemy/dialects/postgresql/pypostgresql.py -> build/lib.macosx-10.5-x86_64-2.7/sqlalchemy/dialects/postgresql\n",
      "  copying lib/sqlalchemy/dialects/postgresql/ranges.py -> build/lib.macosx-10.5-x86_64-2.7/sqlalchemy/dialects/postgresql\n",
      "  copying lib/sqlalchemy/dialects/postgresql/zxjdbc.py -> build/lib.macosx-10.5-x86_64-2.7/sqlalchemy/dialects/postgresql\n",
      "  creating build/lib.macosx-10.5-x86_64-2.7/sqlalchemy/dialects/sqlite\n",
      "  copying lib/sqlalchemy/dialects/sqlite/__init__.py -> build/lib.macosx-10.5-x86_64-2.7/sqlalchemy/dialects/sqlite\n",
      "  copying lib/sqlalchemy/dialects/sqlite/base.py -> build/lib.macosx-10.5-x86_64-2.7/sqlalchemy/dialects/sqlite\n",
      "  copying lib/sqlalchemy/dialects/sqlite/pysqlcipher.py -> build/lib.macosx-10.5-x86_64-2.7/sqlalchemy/dialects/sqlite\n",
      "  copying lib/sqlalchemy/dialects/sqlite/pysqlite.py -> build/lib.macosx-10.5-x86_64-2.7/sqlalchemy/dialects/sqlite\n",
      "  creating build/lib.macosx-10.5-x86_64-2.7/sqlalchemy/dialects/sybase\n",
      "  copying lib/sqlalchemy/dialects/sybase/__init__.py -> build/lib.macosx-10.5-x86_64-2.7/sqlalchemy/dialects/sybase\n",
      "  copying lib/sqlalchemy/dialects/sybase/base.py -> build/lib.macosx-10.5-x86_64-2.7/sqlalchemy/dialects/sybase\n",
      "  copying lib/sqlalchemy/dialects/sybase/mxodbc.py -> build/lib.macosx-10.5-x86_64-2.7/sqlalchemy/dialects/sybase\n",
      "  copying lib/sqlalchemy/dialects/sybase/pyodbc.py -> build/lib.macosx-10.5-x86_64-2.7/sqlalchemy/dialects/sybase\n",
      "  copying lib/sqlalchemy/dialects/sybase/pysybase.py -> build/lib.macosx-10.5-x86_64-2.7/sqlalchemy/dialects/sybase\n",
      "  creating build/lib.macosx-10.5-x86_64-2.7/sqlalchemy/engine\n",
      "  copying lib/sqlalchemy/engine/__init__.py -> build/lib.macosx-10.5-x86_64-2.7/sqlalchemy/engine\n",
      "  copying lib/sqlalchemy/engine/base.py -> build/lib.macosx-10.5-x86_64-2.7/sqlalchemy/engine\n",
      "  copying lib/sqlalchemy/engine/default.py -> build/lib.macosx-10.5-x86_64-2.7/sqlalchemy/engine\n",
      "  copying lib/sqlalchemy/engine/interfaces.py -> build/lib.macosx-10.5-x86_64-2.7/sqlalchemy/engine\n",
      "  copying lib/sqlalchemy/engine/reflection.py -> build/lib.macosx-10.5-x86_64-2.7/sqlalchemy/engine\n",
      "  copying lib/sqlalchemy/engine/result.py -> build/lib.macosx-10.5-x86_64-2.7/sqlalchemy/engine\n",
      "  copying lib/sqlalchemy/engine/strategies.py -> build/lib.macosx-10.5-x86_64-2.7/sqlalchemy/engine\n",
      "  copying lib/sqlalchemy/engine/threadlocal.py -> build/lib.macosx-10.5-x86_64-2.7/sqlalchemy/engine\n",
      "  copying lib/sqlalchemy/engine/url.py -> build/lib.macosx-10.5-x86_64-2.7/sqlalchemy/engine\n",
      "  copying lib/sqlalchemy/engine/util.py -> build/lib.macosx-10.5-x86_64-2.7/sqlalchemy/engine\n",
      "  creating build/lib.macosx-10.5-x86_64-2.7/sqlalchemy/event\n",
      "  copying lib/sqlalchemy/event/__init__.py -> build/lib.macosx-10.5-x86_64-2.7/sqlalchemy/event\n",
      "  copying lib/sqlalchemy/event/api.py -> build/lib.macosx-10.5-x86_64-2.7/sqlalchemy/event\n",
      "  copying lib/sqlalchemy/event/attr.py -> build/lib.macosx-10.5-x86_64-2.7/sqlalchemy/event\n",
      "  copying lib/sqlalchemy/event/base.py -> build/lib.macosx-10.5-x86_64-2.7/sqlalchemy/event\n",
      "  copying lib/sqlalchemy/event/legacy.py -> build/lib.macosx-10.5-x86_64-2.7/sqlalchemy/event\n",
      "  copying lib/sqlalchemy/event/registry.py -> build/lib.macosx-10.5-x86_64-2.7/sqlalchemy/event\n",
      "  creating build/lib.macosx-10.5-x86_64-2.7/sqlalchemy/ext\n",
      "  copying lib/sqlalchemy/ext/__init__.py -> build/lib.macosx-10.5-x86_64-2.7/sqlalchemy/ext\n",
      "  copying lib/sqlalchemy/ext/associationproxy.py -> build/lib.macosx-10.5-x86_64-2.7/sqlalchemy/ext\n",
      "  copying lib/sqlalchemy/ext/automap.py -> build/lib.macosx-10.5-x86_64-2.7/sqlalchemy/ext\n",
      "  copying lib/sqlalchemy/ext/baked.py -> build/lib.macosx-10.5-x86_64-2.7/sqlalchemy/ext\n",
      "  copying lib/sqlalchemy/ext/compiler.py -> build/lib.macosx-10.5-x86_64-2.7/sqlalchemy/ext\n",
      "  copying lib/sqlalchemy/ext/horizontal_shard.py -> build/lib.macosx-10.5-x86_64-2.7/sqlalchemy/ext\n",
      "  copying lib/sqlalchemy/ext/hybrid.py -> build/lib.macosx-10.5-x86_64-2.7/sqlalchemy/ext\n",
      "  copying lib/sqlalchemy/ext/instrumentation.py -> build/lib.macosx-10.5-x86_64-2.7/sqlalchemy/ext\n",
      "  copying lib/sqlalchemy/ext/mutable.py -> build/lib.macosx-10.5-x86_64-2.7/sqlalchemy/ext\n",
      "  copying lib/sqlalchemy/ext/orderinglist.py -> build/lib.macosx-10.5-x86_64-2.7/sqlalchemy/ext\n",
      "  copying lib/sqlalchemy/ext/serializer.py -> build/lib.macosx-10.5-x86_64-2.7/sqlalchemy/ext\n",
      "  creating build/lib.macosx-10.5-x86_64-2.7/sqlalchemy/ext/declarative\n",
      "  copying lib/sqlalchemy/ext/declarative/__init__.py -> build/lib.macosx-10.5-x86_64-2.7/sqlalchemy/ext/declarative\n",
      "  copying lib/sqlalchemy/ext/declarative/api.py -> build/lib.macosx-10.5-x86_64-2.7/sqlalchemy/ext/declarative\n",
      "  copying lib/sqlalchemy/ext/declarative/base.py -> build/lib.macosx-10.5-x86_64-2.7/sqlalchemy/ext/declarative\n",
      "  copying lib/sqlalchemy/ext/declarative/clsregistry.py -> build/lib.macosx-10.5-x86_64-2.7/sqlalchemy/ext/declarative\n",
      "  creating build/lib.macosx-10.5-x86_64-2.7/sqlalchemy/orm\n",
      "  copying lib/sqlalchemy/orm/__init__.py -> build/lib.macosx-10.5-x86_64-2.7/sqlalchemy/orm\n",
      "  copying lib/sqlalchemy/orm/attributes.py -> build/lib.macosx-10.5-x86_64-2.7/sqlalchemy/orm\n",
      "  copying lib/sqlalchemy/orm/base.py -> build/lib.macosx-10.5-x86_64-2.7/sqlalchemy/orm\n",
      "  copying lib/sqlalchemy/orm/collections.py -> build/lib.macosx-10.5-x86_64-2.7/sqlalchemy/orm\n",
      "  copying lib/sqlalchemy/orm/dependency.py -> build/lib.macosx-10.5-x86_64-2.7/sqlalchemy/orm\n",
      "  copying lib/sqlalchemy/orm/deprecated_interfaces.py -> build/lib.macosx-10.5-x86_64-2.7/sqlalchemy/orm\n",
      "  copying lib/sqlalchemy/orm/descriptor_props.py -> build/lib.macosx-10.5-x86_64-2.7/sqlalchemy/orm\n",
      "  copying lib/sqlalchemy/orm/dynamic.py -> build/lib.macosx-10.5-x86_64-2.7/sqlalchemy/orm\n",
      "  copying lib/sqlalchemy/orm/evaluator.py -> build/lib.macosx-10.5-x86_64-2.7/sqlalchemy/orm\n",
      "  copying lib/sqlalchemy/orm/events.py -> build/lib.macosx-10.5-x86_64-2.7/sqlalchemy/orm\n",
      "  copying lib/sqlalchemy/orm/exc.py -> build/lib.macosx-10.5-x86_64-2.7/sqlalchemy/orm\n",
      "  copying lib/sqlalchemy/orm/identity.py -> build/lib.macosx-10.5-x86_64-2.7/sqlalchemy/orm\n",
      "  copying lib/sqlalchemy/orm/instrumentation.py -> build/lib.macosx-10.5-x86_64-2.7/sqlalchemy/orm\n",
      "  copying lib/sqlalchemy/orm/interfaces.py -> build/lib.macosx-10.5-x86_64-2.7/sqlalchemy/orm\n",
      "  copying lib/sqlalchemy/orm/loading.py -> build/lib.macosx-10.5-x86_64-2.7/sqlalchemy/orm\n",
      "  copying lib/sqlalchemy/orm/mapper.py -> build/lib.macosx-10.5-x86_64-2.7/sqlalchemy/orm\n",
      "  copying lib/sqlalchemy/orm/path_registry.py -> build/lib.macosx-10.5-x86_64-2.7/sqlalchemy/orm\n",
      "  copying lib/sqlalchemy/orm/persistence.py -> build/lib.macosx-10.5-x86_64-2.7/sqlalchemy/orm\n",
      "  copying lib/sqlalchemy/orm/properties.py -> build/lib.macosx-10.5-x86_64-2.7/sqlalchemy/orm\n",
      "  copying lib/sqlalchemy/orm/query.py -> build/lib.macosx-10.5-x86_64-2.7/sqlalchemy/orm\n",
      "  copying lib/sqlalchemy/orm/relationships.py -> build/lib.macosx-10.5-x86_64-2.7/sqlalchemy/orm\n",
      "  copying lib/sqlalchemy/orm/scoping.py -> build/lib.macosx-10.5-x86_64-2.7/sqlalchemy/orm\n",
      "  copying lib/sqlalchemy/orm/session.py -> build/lib.macosx-10.5-x86_64-2.7/sqlalchemy/orm\n",
      "  copying lib/sqlalchemy/orm/state.py -> build/lib.macosx-10.5-x86_64-2.7/sqlalchemy/orm\n",
      "  copying lib/sqlalchemy/orm/strategies.py -> build/lib.macosx-10.5-x86_64-2.7/sqlalchemy/orm\n",
      "  copying lib/sqlalchemy/orm/strategy_options.py -> build/lib.macosx-10.5-x86_64-2.7/sqlalchemy/orm\n",
      "  copying lib/sqlalchemy/orm/sync.py -> build/lib.macosx-10.5-x86_64-2.7/sqlalchemy/orm\n",
      "  copying lib/sqlalchemy/orm/unitofwork.py -> build/lib.macosx-10.5-x86_64-2.7/sqlalchemy/orm\n",
      "  copying lib/sqlalchemy/orm/util.py -> build/lib.macosx-10.5-x86_64-2.7/sqlalchemy/orm\n",
      "  creating build/lib.macosx-10.5-x86_64-2.7/sqlalchemy/sql\n",
      "  copying lib/sqlalchemy/sql/__init__.py -> build/lib.macosx-10.5-x86_64-2.7/sqlalchemy/sql\n",
      "  copying lib/sqlalchemy/sql/annotation.py -> build/lib.macosx-10.5-x86_64-2.7/sqlalchemy/sql\n",
      "  copying lib/sqlalchemy/sql/base.py -> build/lib.macosx-10.5-x86_64-2.7/sqlalchemy/sql\n",
      "  copying lib/sqlalchemy/sql/compiler.py -> build/lib.macosx-10.5-x86_64-2.7/sqlalchemy/sql\n",
      "  copying lib/sqlalchemy/sql/crud.py -> build/lib.macosx-10.5-x86_64-2.7/sqlalchemy/sql\n",
      "  copying lib/sqlalchemy/sql/ddl.py -> build/lib.macosx-10.5-x86_64-2.7/sqlalchemy/sql\n",
      "  copying lib/sqlalchemy/sql/default_comparator.py -> build/lib.macosx-10.5-x86_64-2.7/sqlalchemy/sql\n",
      "  copying lib/sqlalchemy/sql/dml.py -> build/lib.macosx-10.5-x86_64-2.7/sqlalchemy/sql\n",
      "  copying lib/sqlalchemy/sql/elements.py -> build/lib.macosx-10.5-x86_64-2.7/sqlalchemy/sql\n",
      "  copying lib/sqlalchemy/sql/expression.py -> build/lib.macosx-10.5-x86_64-2.7/sqlalchemy/sql\n",
      "  copying lib/sqlalchemy/sql/functions.py -> build/lib.macosx-10.5-x86_64-2.7/sqlalchemy/sql\n",
      "  copying lib/sqlalchemy/sql/naming.py -> build/lib.macosx-10.5-x86_64-2.7/sqlalchemy/sql\n",
      "  copying lib/sqlalchemy/sql/operators.py -> build/lib.macosx-10.5-x86_64-2.7/sqlalchemy/sql\n",
      "  copying lib/sqlalchemy/sql/schema.py -> build/lib.macosx-10.5-x86_64-2.7/sqlalchemy/sql\n",
      "  copying lib/sqlalchemy/sql/selectable.py -> build/lib.macosx-10.5-x86_64-2.7/sqlalchemy/sql\n",
      "  copying lib/sqlalchemy/sql/sqltypes.py -> build/lib.macosx-10.5-x86_64-2.7/sqlalchemy/sql\n",
      "  copying lib/sqlalchemy/sql/type_api.py -> build/lib.macosx-10.5-x86_64-2.7/sqlalchemy/sql\n",
      "  copying lib/sqlalchemy/sql/util.py -> build/lib.macosx-10.5-x86_64-2.7/sqlalchemy/sql\n",
      "  copying lib/sqlalchemy/sql/visitors.py -> build/lib.macosx-10.5-x86_64-2.7/sqlalchemy/sql\n",
      "  creating build/lib.macosx-10.5-x86_64-2.7/sqlalchemy/testing\n",
      "  copying lib/sqlalchemy/testing/__init__.py -> build/lib.macosx-10.5-x86_64-2.7/sqlalchemy/testing\n",
      "  copying lib/sqlalchemy/testing/assertions.py -> build/lib.macosx-10.5-x86_64-2.7/sqlalchemy/testing\n",
      "  copying lib/sqlalchemy/testing/assertsql.py -> build/lib.macosx-10.5-x86_64-2.7/sqlalchemy/testing\n",
      "  copying lib/sqlalchemy/testing/config.py -> build/lib.macosx-10.5-x86_64-2.7/sqlalchemy/testing\n",
      "  copying lib/sqlalchemy/testing/distutils_run.py -> build/lib.macosx-10.5-x86_64-2.7/sqlalchemy/testing\n",
      "  copying lib/sqlalchemy/testing/engines.py -> build/lib.macosx-10.5-x86_64-2.7/sqlalchemy/testing\n",
      "  copying lib/sqlalchemy/testing/entities.py -> build/lib.macosx-10.5-x86_64-2.7/sqlalchemy/testing\n",
      "  copying lib/sqlalchemy/testing/exclusions.py -> build/lib.macosx-10.5-x86_64-2.7/sqlalchemy/testing\n",
      "  copying lib/sqlalchemy/testing/fixtures.py -> build/lib.macosx-10.5-x86_64-2.7/sqlalchemy/testing\n",
      "  copying lib/sqlalchemy/testing/mock.py -> build/lib.macosx-10.5-x86_64-2.7/sqlalchemy/testing\n",
      "  copying lib/sqlalchemy/testing/pickleable.py -> build/lib.macosx-10.5-x86_64-2.7/sqlalchemy/testing\n",
      "  copying lib/sqlalchemy/testing/profiling.py -> build/lib.macosx-10.5-x86_64-2.7/sqlalchemy/testing\n",
      "  copying lib/sqlalchemy/testing/provision.py -> build/lib.macosx-10.5-x86_64-2.7/sqlalchemy/testing\n",
      "  copying lib/sqlalchemy/testing/replay_fixture.py -> build/lib.macosx-10.5-x86_64-2.7/sqlalchemy/testing\n",
      "  copying lib/sqlalchemy/testing/requirements.py -> build/lib.macosx-10.5-x86_64-2.7/sqlalchemy/testing\n",
      "  copying lib/sqlalchemy/testing/runner.py -> build/lib.macosx-10.5-x86_64-2.7/sqlalchemy/testing\n",
      "  copying lib/sqlalchemy/testing/schema.py -> build/lib.macosx-10.5-x86_64-2.7/sqlalchemy/testing\n",
      "  copying lib/sqlalchemy/testing/util.py -> build/lib.macosx-10.5-x86_64-2.7/sqlalchemy/testing\n",
      "  copying lib/sqlalchemy/testing/warnings.py -> build/lib.macosx-10.5-x86_64-2.7/sqlalchemy/testing\n",
      "  creating build/lib.macosx-10.5-x86_64-2.7/sqlalchemy/testing/plugin\n",
      "  copying lib/sqlalchemy/testing/plugin/__init__.py -> build/lib.macosx-10.5-x86_64-2.7/sqlalchemy/testing/plugin\n",
      "  copying lib/sqlalchemy/testing/plugin/bootstrap.py -> build/lib.macosx-10.5-x86_64-2.7/sqlalchemy/testing/plugin\n",
      "  copying lib/sqlalchemy/testing/plugin/noseplugin.py -> build/lib.macosx-10.5-x86_64-2.7/sqlalchemy/testing/plugin\n",
      "  copying lib/sqlalchemy/testing/plugin/plugin_base.py -> build/lib.macosx-10.5-x86_64-2.7/sqlalchemy/testing/plugin\n",
      "  copying lib/sqlalchemy/testing/plugin/pytestplugin.py -> build/lib.macosx-10.5-x86_64-2.7/sqlalchemy/testing/plugin\n",
      "  creating build/lib.macosx-10.5-x86_64-2.7/sqlalchemy/testing/suite\n",
      "  copying lib/sqlalchemy/testing/suite/__init__.py -> build/lib.macosx-10.5-x86_64-2.7/sqlalchemy/testing/suite\n",
      "  copying lib/sqlalchemy/testing/suite/test_ddl.py -> build/lib.macosx-10.5-x86_64-2.7/sqlalchemy/testing/suite\n",
      "  copying lib/sqlalchemy/testing/suite/test_dialect.py -> build/lib.macosx-10.5-x86_64-2.7/sqlalchemy/testing/suite\n",
      "  copying lib/sqlalchemy/testing/suite/test_insert.py -> build/lib.macosx-10.5-x86_64-2.7/sqlalchemy/testing/suite\n",
      "  copying lib/sqlalchemy/testing/suite/test_reflection.py -> build/lib.macosx-10.5-x86_64-2.7/sqlalchemy/testing/suite\n",
      "  copying lib/sqlalchemy/testing/suite/test_results.py -> build/lib.macosx-10.5-x86_64-2.7/sqlalchemy/testing/suite\n",
      "  copying lib/sqlalchemy/testing/suite/test_select.py -> build/lib.macosx-10.5-x86_64-2.7/sqlalchemy/testing/suite\n",
      "  copying lib/sqlalchemy/testing/suite/test_sequence.py -> build/lib.macosx-10.5-x86_64-2.7/sqlalchemy/testing/suite\n",
      "  copying lib/sqlalchemy/testing/suite/test_types.py -> build/lib.macosx-10.5-x86_64-2.7/sqlalchemy/testing/suite\n",
      "  copying lib/sqlalchemy/testing/suite/test_update_delete.py -> build/lib.macosx-10.5-x86_64-2.7/sqlalchemy/testing/suite\n",
      "  creating build/lib.macosx-10.5-x86_64-2.7/sqlalchemy/util\n",
      "  copying lib/sqlalchemy/util/__init__.py -> build/lib.macosx-10.5-x86_64-2.7/sqlalchemy/util\n",
      "  copying lib/sqlalchemy/util/_collections.py -> build/lib.macosx-10.5-x86_64-2.7/sqlalchemy/util\n",
      "  copying lib/sqlalchemy/util/compat.py -> build/lib.macosx-10.5-x86_64-2.7/sqlalchemy/util\n",
      "  copying lib/sqlalchemy/util/deprecations.py -> build/lib.macosx-10.5-x86_64-2.7/sqlalchemy/util\n",
      "  copying lib/sqlalchemy/util/langhelpers.py -> build/lib.macosx-10.5-x86_64-2.7/sqlalchemy/util\n",
      "  copying lib/sqlalchemy/util/queue.py -> build/lib.macosx-10.5-x86_64-2.7/sqlalchemy/util\n",
      "  copying lib/sqlalchemy/util/topological.py -> build/lib.macosx-10.5-x86_64-2.7/sqlalchemy/util\n",
      "  running build_ext\n",
      "  Traceback (most recent call last):\n",
      "    File \"<string>\", line 1, in <module>\n",
      "    File \"/private/var/folders/gw/3yhx92_8_zsv53k2x0l_wb_c0002m4/T/pip-build-xovHqM/sqlalchemy/setup.py\", line 170, in <module>\n",
      "      run_setup(True)\n",
      "    File \"/private/var/folders/gw/3yhx92_8_zsv53k2x0l_wb_c0002m4/T/pip-build-xovHqM/sqlalchemy/setup.py\", line 150, in run_setup\n",
      "      **kwargs\n",
      "    File \"/Users/jmccorri/anaconda/lib/python2.7/distutils/core.py\", line 151, in setup\n",
      "      dist.run_commands()\n",
      "    File \"/Users/jmccorri/anaconda/lib/python2.7/distutils/dist.py\", line 953, in run_commands\n",
      "      self.run_command(cmd)\n",
      "    File \"/Users/jmccorri/anaconda/lib/python2.7/distutils/dist.py\", line 972, in run_command\n",
      "      cmd_obj.run()\n",
      "    File \"/Users/jmccorri/anaconda/lib/python2.7/site-packages/wheel/bdist_wheel.py\", line 176, in run\n",
      "      self.run_command('build')\n",
      "    File \"/Users/jmccorri/anaconda/lib/python2.7/distutils/cmd.py\", line 326, in run_command\n",
      "      self.distribution.run_command(command)\n",
      "    File \"/Users/jmccorri/anaconda/lib/python2.7/distutils/dist.py\", line 972, in run_command\n",
      "      cmd_obj.run()\n",
      "    File \"/Users/jmccorri/anaconda/lib/python2.7/distutils/command/build.py\", line 127, in run\n",
      "      self.run_command(cmd_name)\n",
      "    File \"/Users/jmccorri/anaconda/lib/python2.7/distutils/cmd.py\", line 326, in run_command\n",
      "      self.distribution.run_command(command)\n",
      "    File \"/Users/jmccorri/anaconda/lib/python2.7/distutils/dist.py\", line 972, in run_command\n",
      "      cmd_obj.run()\n",
      "    File \"/private/var/folders/gw/3yhx92_8_zsv53k2x0l_wb_c0002m4/T/pip-build-xovHqM/sqlalchemy/setup.py\", line 67, in run\n",
      "      build_ext.run(self)\n",
      "    File \"/Users/jmccorri/anaconda/lib/python2.7/distutils/command/build_ext.py\", line 309, in run\n",
      "      customize_compiler(self.compiler)\n",
      "    File \"/Users/jmccorri/anaconda/lib/python2.7/distutils/sysconfig.py\", line 171, in customize_compiler\n",
      "      _osx_support.customize_compiler(_config_vars)\n",
      "    File \"/Users/jmccorri/anaconda/lib/python2.7/_osx_support.py\", line 418, in customize_compiler\n",
      "      _find_appropriate_compiler(_config_vars)\n",
      "    File \"/Users/jmccorri/anaconda/lib/python2.7/_osx_support.py\", line 191, in _find_appropriate_compiler\n",
      "      \"Cannot locate working compiler\")\n",
      "  SystemError: Cannot locate working compiler\n",
      "  \n",
      "  ----------------------------------------\n",
      "Failed to build sqlalchemy\n",
      "Installing collected packages: sqlalchemy\n",
      "  Found existing installation: SQLAlchemy 1.0.9\n",
      "    Uninstalling SQLAlchemy-1.0.9:\n",
      "      Successfully uninstalled SQLAlchemy-1.0.9\n",
      "  Running setup.py install for sqlalchemy\n",
      "    Complete output from command /Users/jmccorri/anaconda/bin/python -c \"import setuptools, tokenize;__file__='/private/var/folders/gw/3yhx92_8_zsv53k2x0l_wb_c0002m4/T/pip-build-xovHqM/sqlalchemy/setup.py';exec(compile(getattr(tokenize, 'open', open)(__file__).read().replace('\\r\\n', '\\n'), __file__, 'exec'))\" install --record /var/folders/gw/3yhx92_8_zsv53k2x0l_wb_c0002m4/T/pip-BAlaQE-record/install-record.txt --single-version-externally-managed --compile:\n",
      "    running install\n",
      "    running build\n",
      "    running build_py\n",
      "    running build_ext\n",
      "    Traceback (most recent call last):\n",
      "      File \"<string>\", line 1, in <module>\n",
      "      File \"/private/var/folders/gw/3yhx92_8_zsv53k2x0l_wb_c0002m4/T/pip-build-xovHqM/sqlalchemy/setup.py\", line 170, in <module>\n",
      "        run_setup(True)\n",
      "      File \"/private/var/folders/gw/3yhx92_8_zsv53k2x0l_wb_c0002m4/T/pip-build-xovHqM/sqlalchemy/setup.py\", line 150, in run_setup\n",
      "        **kwargs\n",
      "      File \"/Users/jmccorri/anaconda/lib/python2.7/distutils/core.py\", line 151, in setup\n",
      "        dist.run_commands()\n",
      "      File \"/Users/jmccorri/anaconda/lib/python2.7/distutils/dist.py\", line 953, in run_commands\n",
      "        self.run_command(cmd)\n",
      "      File \"/Users/jmccorri/anaconda/lib/python2.7/distutils/dist.py\", line 972, in run_command\n",
      "        cmd_obj.run()\n",
      "      File \"/Users/jmccorri/anaconda/lib/python2.7/site-packages/setuptools-18.5-py2.7.egg/setuptools/command/install.py\", line 61, in run\n",
      "      File \"/Users/jmccorri/anaconda/lib/python2.7/distutils/command/install.py\", line 563, in run\n",
      "        self.run_command('build')\n",
      "      File \"/Users/jmccorri/anaconda/lib/python2.7/distutils/cmd.py\", line 326, in run_command\n",
      "        self.distribution.run_command(command)\n",
      "      File \"/Users/jmccorri/anaconda/lib/python2.7/distutils/dist.py\", line 972, in run_command\n",
      "        cmd_obj.run()\n",
      "      File \"/Users/jmccorri/anaconda/lib/python2.7/distutils/command/build.py\", line 127, in run\n",
      "        self.run_command(cmd_name)\n",
      "      File \"/Users/jmccorri/anaconda/lib/python2.7/distutils/cmd.py\", line 326, in run_command\n",
      "        self.distribution.run_command(command)\n",
      "      File \"/Users/jmccorri/anaconda/lib/python2.7/distutils/dist.py\", line 972, in run_command\n",
      "        cmd_obj.run()\n",
      "      File \"/private/var/folders/gw/3yhx92_8_zsv53k2x0l_wb_c0002m4/T/pip-build-xovHqM/sqlalchemy/setup.py\", line 67, in run\n",
      "        build_ext.run(self)\n",
      "      File \"/Users/jmccorri/anaconda/lib/python2.7/distutils/command/build_ext.py\", line 309, in run\n",
      "        customize_compiler(self.compiler)\n",
      "      File \"/Users/jmccorri/anaconda/lib/python2.7/distutils/sysconfig.py\", line 171, in customize_compiler\n",
      "        _osx_support.customize_compiler(_config_vars)\n",
      "      File \"/Users/jmccorri/anaconda/lib/python2.7/_osx_support.py\", line 418, in customize_compiler\n",
      "        _find_appropriate_compiler(_config_vars)\n",
      "      File \"/Users/jmccorri/anaconda/lib/python2.7/_osx_support.py\", line 191, in _find_appropriate_compiler\n",
      "        \"Cannot locate working compiler\")\n",
      "    SystemError: Cannot locate working compiler\n",
      "    \n",
      "    ----------------------------------------\n",
      "  Rolling back uninstall of SQLAlchemy\n"
     ]
    },
    {
     "name": "stderr",
     "output_type": "stream",
     "text": [
      "  Failed building wheel for sqlalchemy\n",
      "    DEPRECATION: Uninstalling a distutils installed project (sqlalchemy) has been deprecated and will be removed in a future version. This is due to the fact that uninstalling a distutils project will only partially uninstall the project.\n",
      "Command \"/Users/jmccorri/anaconda/bin/python -c \"import setuptools, tokenize;__file__='/private/var/folders/gw/3yhx92_8_zsv53k2x0l_wb_c0002m4/T/pip-build-xovHqM/sqlalchemy/setup.py';exec(compile(getattr(tokenize, 'open', open)(__file__).read().replace('\\r\\n', '\\n'), __file__, 'exec'))\" install --record /var/folders/gw/3yhx92_8_zsv53k2x0l_wb_c0002m4/T/pip-BAlaQE-record/install-record.txt --single-version-externally-managed --compile\" failed with error code 1 in /private/var/folders/gw/3yhx92_8_zsv53k2x0l_wb_c0002m4/T/pip-build-xovHqM/sqlalchemy\n",
      "[ExtensionInstallApp | WARNING] Unrecognized JSON config file version, assuming version 1\n",
      "[ExtensionInstallApp | INFO] Installing create_assignment extension\n",
      "[ExtensionInstallApp | INFO] Installing assignment_list extension\n",
      "[ExtensionActivateApp | WARNING] Unrecognized JSON config file version, assuming version 1\n",
      "[ExtensionActivateApp | INFO] Activating create_assignment nbextension\n",
      "[ExtensionActivateApp | INFO] Activating assignment_list server extension\n",
      "[ExtensionActivateApp | WARNING] Unrecognized JSON config file version, assuming version 1\n",
      "[ExtensionActivateApp | INFO] Activating assignment_list nbextension\n",
      "[ExtensionActivateApp | INFO] Done. You may need to restart the Jupyter notebook server for changes to take effect.\n"
     ]
    }
   ],
   "source": [
    "%%bash\n",
    "export PATH=\"~/anaconda/bin/:$PATH\"\n",
    "cd ~/anaconda\n",
    "~/anaconda/bin/pip install nbgrader --upgrade\n",
    "~/anaconda/bin/nbgrader extension install --user\n",
    "~/anaconda/bin/nbgrader extension activate\n",
    "\n",
    "# then restart your browser, and/or the jupyter server"
   ]
  },
  {
   "cell_type": "markdown",
   "metadata": {
    "nbgrader": {
     "grade": false,
     "grade_id": "ro",
     "locked": true,
     "solution": false
    }
   },
   "source": [
    "# Step 2 : Create Test Cases using All Entry Types\n",
    "* [Guide](http://nbgrader.readthedocs.org/en/stable/user_guide/02_developing_assignments.html)\n",
    "\n",
    "### Markdown cells (Text feedback) can be handled as 'manually-graded' or 'read-only':\n",
    "\n",
    "* This block is read only\n",
    "* The block below is an example of a manually-graded text blob:\n",
    "\n",
    "**Who is your favorite TA?** (Olga or Jamison)"
   ]
  },
  {
   "cell_type": "markdown",
   "metadata": {
    "collapsed": true,
    "nbgrader": {
     "grade": true,
     "grade_id": "1",
     "locked": false,
     "solution": true
    }
   },
   "source": [
    "#### *REPLACE THIS TEXT!*"
   ]
  },
  {
   "cell_type": "markdown",
   "metadata": {},
   "source": [
    "### Code cells can be set up as...\n",
    "\n",
    "#### Example input prep and print"
   ]
  },
  {
   "cell_type": "code",
   "execution_count": 39,
   "metadata": {
    "collapsed": false
   },
   "outputs": [
    {
     "name": "stdout",
     "output_type": "stream",
     "text": [
      "STRING\n"
     ]
    }
   ],
   "source": [
    "%%bash\n",
    "export variable=\"ACTGCGTACAGTCAGAT\"\n",
    "echo $variable"
   ]
  },
  {
   "cell_type": "markdown",
   "metadata": {},
   "source": [
    "#### 1. Manually-graded\n",
    "\n",
    "Replace all instances of \"T\" to \"X\" and \"a\" to \"q\" and print to screen."
   ]
  },
  {
   "cell_type": "code",
   "execution_count": 53,
   "metadata": {
    "collapsed": false,
    "nbgrader": {
     "grade": true,
     "grade_id": "2",
     "locked": false,
     "solution": true
    }
   },
   "outputs": [
    {
     "name": "stdout",
     "output_type": "stream",
     "text": [
      "ACXGCGXACAGXCAGAX\n"
     ]
    }
   ],
   "source": [
    "%%bash\n",
    "export variable=\"ACTGCGTACAGTCAGAT\"\n",
    "echo $variable | tr 'T' 'X' | tr 'a' 'q'"
   ]
  },
  {
   "cell_type": "markdown",
   "metadata": {
    "collapsed": true
   },
   "source": [
    "#### 2. Simple example: utograded answer\n",
    "\n",
    "Count the number of 'C' characters in string $variable.  "
   ]
  },
  {
   "cell_type": "code",
   "execution_count": 52,
   "metadata": {
    "collapsed": false,
    "nbgrader": {
     "grade": false,
     "grade_id": "3",
     "locked": false,
     "solution": true
    }
   },
   "outputs": [
    {
     "name": "stdout",
     "output_type": "stream",
     "text": [
      "       4\n"
     ]
    }
   ],
   "source": [
    "%%bash\n",
    "export variable=\"ACTGCGTACAGTCAGAT\"\n",
    "echo $variable | grep -o 'C'| wc -l"
   ]
  },
  {
   "cell_type": "markdown",
   "metadata": {
    "collapsed": true
   },
   "source": [
    "#### 3. Realistic example: Autograder answer + tests\n",
    "\n",
    "* [Writing good autograder tests](http://nbgrader.readthedocs.org/en/stable/user_guide/02_developing_assignments.html#writing-tests)\n",
    "\n",
    "**Example from guide above:**  \n",
    "Write a function that returns a list of numbers, such that xi=i2, for 1≤i≤n. Make sure it handles the case where n<1 by raising a ValueError.\n",
    "\n",
    "**First set up an 'autograded answer' box for user entry:"
   ]
  },
  {
   "cell_type": "code",
   "execution_count": 88,
   "metadata": {
    "collapsed": false,
    "nbgrader": {
     "grade": false,
     "grade_id": "4",
     "locked": false,
     "solution": true
    }
   },
   "outputs": [],
   "source": [
    "def squares(n):\n",
    "    \"\"\"Compute the squares of numbers from 1 to n, such that the \n",
    "    ith element of the returned list equals i^2.\n",
    "    \"\"\"\n",
    "    if n < 1:\n",
    "        raise ValueError\n",
    "    s = []\n",
    "    for i in range(1,n+1):\n",
    "        s.append(i**2)\n",
    "    return s"
   ]
  },
  {
   "cell_type": "markdown",
   "metadata": {},
   "source": [
    "**And test:**"
   ]
  },
  {
   "cell_type": "code",
   "execution_count": 89,
   "metadata": {
    "collapsed": false,
    "nbgrader": {
     "grade": false,
     "grade_id": "4a",
     "locked": true,
     "solution": false
    }
   },
   "outputs": [
    {
     "data": {
      "text/plain": [
       "[1]"
      ]
     },
     "execution_count": 89,
     "metadata": {},
     "output_type": "execute_result"
    }
   ],
   "source": [
    "squares(1)"
   ]
  },
  {
   "cell_type": "code",
   "execution_count": 90,
   "metadata": {
    "collapsed": false,
    "nbgrader": {
     "grade": true,
     "grade_id": "4_testsuccess",
     "locked": true,
     "solution": false
    }
   },
   "outputs": [],
   "source": [
    "from nose.tools import assert_equal\n",
    "assert_equal(squares(1), [1])\n",
    "assert_equal(squares(2), [1, 4])\n",
    "assert_equal(squares(10), [1, 4, 9, 16, 25, 36, 49, 64, 81, 100])\n",
    "assert_equal(squares(11), [1, 4, 9, 16, 25, 36, 49, 64, 81, 100, 121])"
   ]
  },
  {
   "cell_type": "code",
   "execution_count": 91,
   "metadata": {
    "collapsed": true,
    "nbgrader": {
     "grade": true,
     "grade_id": "4_invalidinputcheck",
     "locked": true,
     "solution": false
    }
   },
   "outputs": [],
   "source": [
    "from nose.tools import assert_raises\n",
    "assert_raises(ValueError, squares, 0)\n",
    "assert_raises(ValueError, squares, -4)"
   ]
  },
  {
   "cell_type": "markdown",
   "metadata": {},
   "source": [
    "#### 4. Read-only\n",
    "\n",
    "See the code example below:"
   ]
  },
  {
   "cell_type": "code",
   "execution_count": 68,
   "metadata": {
    "collapsed": false,
    "nbgrader": {
     "grade": false,
     "grade_id": "ro2",
     "locked": true,
     "solution": false
    }
   },
   "outputs": [
    {
     "name": "stdout",
     "output_type": "stream",
     "text": [
      "hello world\n"
     ]
    }
   ],
   "source": [
    "%%bash\n",
    "echo \"hello world\""
   ]
  },
  {
   "cell_type": "markdown",
   "metadata": {},
   "source": [
    "# Step 3: Autograding (Examples)\n",
    "* [Guide](http://nbgrader.readthedocs.org/en/stable/user_guide/04_autograding.html)\n",
    "* Once the autograding is complete, there will be new directories for the autograded versions of the submissions:\n",
    "    * > `autograded/username/Problem Set 1/Problem 1.ipynb`\n",
    "* And \"Feedback\" will be given based on scores from each assert statement\n",
    "    * > `feedback/username/Problem Set 1/Problem 1.html`\n",
    "    * [Example](http://nbgrader.readthedocs.org/en/stable/user_guide/feedback/Bitdiddle/Problem%20Set%201/Problem%201.html)\n",
    "    \n",
    "**Example** (*Not working because our test case does not follow directory guidelines.*)"
   ]
  },
  {
   "cell_type": "code",
   "execution_count": 93,
   "metadata": {
    "collapsed": false,
    "nbgrader": {
     "grade": false,
     "locked": true,
     "solution": false
    }
   },
   "outputs": [
    {
     "name": "stderr",
     "output_type": "stream",
     "text": [
      "[AutogradeApp | ERROR] No notebooks were matched by 'submitted/*/MyFirstNBGrader'\n"
     ]
    }
   ],
   "source": [
    "%%bash\n",
    "nbgrader autograde \"MyFirstNBGrader\""
   ]
  },
  {
   "cell_type": "markdown",
   "metadata": {},
   "source": [
    "* * *\n",
    "\n",
    "# The End."
   ]
  }
 ],
 "metadata": {
  "celltoolbar": "Create Assignment",
  "kernelspec": {
   "display_name": "Python 2",
   "language": "python",
   "name": "python2"
  },
  "language_info": {
   "codemirror_mode": {
    "name": "ipython",
    "version": 2
   },
   "file_extension": ".py",
   "mimetype": "text/x-python",
   "name": "python",
   "nbconvert_exporter": "python",
   "pygments_lexer": "ipython2",
   "version": "2.7.11"
  }
 },
 "nbformat": 4,
 "nbformat_minor": 0
}
