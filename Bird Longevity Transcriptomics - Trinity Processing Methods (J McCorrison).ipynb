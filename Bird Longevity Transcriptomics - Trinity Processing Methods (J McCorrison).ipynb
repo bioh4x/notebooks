{
 "cells": [
  {
   "cell_type": "markdown",
   "metadata": {},
   "source": [
    "# Initial Input Evaluation"
   ]
  },
  {
   "cell_type": "code",
   "execution_count": null,
   "metadata": {
    "collapsed": true
   },
   "outputs": [],
   "source": [
    "%%bash\n",
    "### Merge\n",
    "\n",
    "cat Chipping_Sparrow_Sample_*R1*q > Chipping_Sparrow_16.merge2lanes.R1.fastq\n",
    "cat Crow*R1*q > Crow_5.merge2lanes.R1.fastq\n",
    "cat Green*R1*q > Green_winged_Teal_25.merge2lanes.R1.fastq\n",
    "cat Northern_Card*R1*q > Northern_Cardinal_36.merge2lanes.R1.fastq\n",
    "cat Pin*R1*q > Pintail_Duck_22.merge2lanes.R1.fastq\n",
    "cat Ruby*R1*q > Ruby_throated_Hummingbird_21.merge2lanes.R1.fastq\n",
    " \n",
    "cat Chipping_Sparrow_Sample_*R2*q > Chipping_Sparrow_16.merge2lanes.R2.fastq\n",
    "cat Crow*R2*q > Crow_5.merge2lanes.R2.fastq\n",
    "cat Green*R2*q > Green_winged_Teal_25.merge2lanes.R2.fastq\n",
    "cat Northern_Card*R2*q > Northern_Cardinal_36.merge2lanes.R2.fastq\n",
    "cat Pin*R2*q > Pintail_Duck_22.merge2lanes.R2.fastq\n",
    "cat Ruby*R2*q > Ruby_throated_Hummingbird_21.merge2lanes.R2.fastq\n",
    "\n",
    "\n",
    "### FastQC Methods (JCVI Infrastructure)\n",
    "\n",
    "scp jmccorri@tscc-login.sdsc.edu:/projects/ps-jcvi2/schork-lab/projects/Miller_Bird_RNAseq/Sample_Pellet_6A/Pellet_6A_NoIndex_L006_R1_011.fastq .\n",
    "    \n",
    "qsub -P 0672 -e GRID_err.txt -m ea -M jmccorri@jcvi.org -cwd /usr/local/devel/BCIS/external_software/FastQC/fastqc_v0.11.2/fastqc.pl Pellet_6A_NoIndex_L006_R1_011.fastq"
   ]
  },
  {
   "cell_type": "code",
   "execution_count": null,
   "metadata": {
    "collapsed": true
   },
   "outputs": [],
   "source": [
    "### Merged Raw Sequence Sizes (**=merged)\n",
    "\n",
    "low end = (3 GB, 6 GB total)\n",
    "3113348631 \tHouse_Finch_Sample_37LC.cat.R1.fastq\n",
    "3535360014\tSpotted_Sandpiper_Sample_30LC.cat.R1.fastq\n",
    "3859176979\tGray_Catbird_Sample_28LC.cat.R1.fastq\n",
    "4314333960\tGadwall_Sample_26LC.cat.R1.fastq\n",
    "4704958279\tYellow_rumped_Warbler_Sample_27LC.cat.R1.fastq\n",
    "4948275503\tRing_billed_Gull_Sample_40LC.cat.R1.fastq\n",
    "10733515553\tTufted_Titmouse_Sample_33.cat.R1.fastq\n",
    "11568081629\tHorned_Lark_Sample_32.cat.R1.fastq\n",
    "11679180560\tYellow_throated_Warbler_Sample_41.cat.R1.fastq\n",
    "12708764344\tYellow_Warbler_Sample_35.cat.R1.fastq\n",
    "12837313156\tDowny_Woodpecker_Sample_9.cat.R1.fastq\n",
    "13852156958\tOstrich_Sample_Pellet_3.cat.R1.fastq\n",
    "14059333719\tWood_Duck_Sample_2.cat.R1.fastq\n",
    "14370816073\tNorthern_Shoveler_Sample_7.cat.R1.fastq\n",
    "14507458607\tCanada_Goose_Sample_Pellet_8.cat.R1.fastq\n",
    "14962057013\tRed_eyed_Vireo_Sample_14.cat.R1.fastq\n",
    "14985089742\tCarolina_Wren_Sample_Pellet_12.cat.R1.fastq\n",
    "14988123505\tHouse_wren_Sample_19.cat.R1.fastq\n",
    "15082398483\tMourning_Dove_Sample_34.cat.R1.fastq\n",
    "15107225638\tTree_Swallow_Sample_38.cat.R1.fastq\n",
    "15286192935\tHouse_Sparrow_Sample_42.cat.R1.fastq\n",
    "15505287264\tRed_bellied_Woodpecker_Sample_24.cat.R1.fastq\n",
    "15619576672\tWhite_breasted_Nuthatch_Sample_11.cat.R1.fastq\n",
    "15672287719\tKilldeer_Sample_Pellet_13.cat.R1.fastq\n",
    "15687966590\tPheasant_Sample_Pellet_18.cat.R1.fastq\n",
    "16276247050\tStarling_Sample_Pellet_31.cat.R1.fastq\n",
    "16422319117\tMallard_Sample_23.cat.R1.fastq\n",
    "16447388941\tSong_Sparrow_Sample_17.cat.R1.fastq\n",
    "16679944642\tNorthern_Cardinal_36.merge2lanes.R1.fastq **\n",
    "18082992129\tRuby_throated_Hummingbird_21.merge2lanes.R1.fastq ** (initial test case) \n",
    "18199261660\tBrown_headed_Cowbird_Sample_39.cat.R1.fastq\n",
    "18847209917\tCommon_Grackle_Sample_1.cat.R1.fastq\n",
    "26082773954\tCrow_5.merge2lanes.R1.fastq **\n",
    "27770697014\tPintail_Duck_22.merge2lanes.R1.fastq **\n",
    "60170650871\tGreen_winged_Teal_25.merge2lanes.R1.fastq **\n",
    "65513666868\tChipping_Sparrow_16.merge2lanes.R1.fastq **\n",
    "(65 GB, 130GB total)"
   ]
  },
  {
   "cell_type": "markdown",
   "metadata": {},
   "source": [
    "# (Optional) In Silico Normalization"
   ]
  },
  {
   "cell_type": "code",
   "execution_count": null,
   "metadata": {
    "collapsed": true
   },
   "outputs": [],
   "source": [
    "%%bash\n",
    "\n",
    "#!/bin/bash\n",
    "#SBATCH -p compute\n",
    "#SBATCH -N 10\n",
    "#SBATCH --mem=120G\n",
    "#SBATCH --ntasks 1\n",
    "#SBATCH -t 48:00:00\n",
    "#SBATCH -J Trinity.003_IN_SILICO_NORMALIZATION_6a.COMET_COMPUTE\n",
    "#SBATCH --mail-user=\"jmccorri@eng.ucsd.edu\"\n",
    "#SBATCH --mail-type=\"all\"\n",
    "#SBATCH -A csd474\n",
    "#SBATCH --output=\"003_IN_SILICO_NORMALIZATION_6a.%j.%N.out\"\n",
    "module load biotools\n",
    "date\n",
    "\n",
    "cd /oasis/scratch/comet/jmccorri/temp_project/LONGEVITY/003_IN_SILICO_NORMALIZATION_6a\n",
    "\n",
    "export PATH=/opt/biotools/bowtie/bin:$PATH\n",
    "export PATH=/opt/biotools/samtools/bin:$PATH\n",
    "\n",
    "# http://trinityrnaseq.sourceforge.net/trinity_insilico_normalization.html\n",
    "# /opt/biotools/trinity/util/insilico_read_normalization.pl --seqType fq --JM 100G --max_cov 30 --left left.fq --right right.fq \\\n",
    "# --pairs_together --PARALLEL_STATS --CPU 10\n",
    "\n",
    "# /opt/biotools/trinity/Trinity --seqType fq --JM 1000G --left /projects/ps-jcvi2/schork-lab/projects/Miller_Bird_RNAseq/TEST_EXE_METHOD\n",
    "S_de_novo/21_R1_cat.fastq --right /projects/ps-jcvi2/schork-lab/projects/Miller_Bird_RNAseq/TEST_EXE_METHODS_de_novo/21_R2_cat.fastq --C\n",
    "PU 16 --bflyCPU 2 --min_kmer_cov 2\n",
    "/opt/biotools/trinity/util/insilico_read_normalization.pl --seqType fq --JM 100G --max_cov 60 --left /projects/ps-jcvi2/schork-lab/proje\n",
    "cts/Miller_Bird_RNAseq/TEST_EXE_METHODS_de_novo/21_R1_cat.fastq --right /projects/ps-jcvi2/schork-lab/projects/Miller_Bird_RNAseq/TEST_E\n",
    "XE_METHODS_de_novo/21_R2_cat.fastq --pairs_together --PARALLEL_STATS --CPU 10\n",
    " \n",
    "date"
   ]
  },
  {
   "cell_type": "markdown",
   "metadata": {},
   "source": [
    "# Example Execution : De Novo"
   ]
  },
  {
   "cell_type": "code",
   "execution_count": null,
   "metadata": {
    "collapsed": true
   },
   "outputs": [],
   "source": [
    "%%bash\n",
    "\n",
    "#!/bin/bash\n",
    "#SBATCH -p large-shared\n",
    "#SBATCH -N 1\n",
    "#SBATCH --mem=1000G\n",
    "#SBATCH --ntasks 1\n",
    "#SBATCH -t 48:00:00\n",
    "#SBATCH -J Trinity.PECOMET\n",
    "#SBATCH --mail-user=\"jmccorri@eng.ucsd.edu\"\n",
    "#SBATCH --mail-type=\"all\"\n",
    "#SBATCH -A csd474\n",
    "#SBATCH --output=\"hellompi.%j.%N.out\"\n",
    "module load biotools\n",
    "date\n",
    "# Trinity --seqType fq --SS_lib_type FR --left JacPE100.R1.fq --right JacPE100.R2.fq --CPU 16 --JM 350G\n",
    "\n",
    "cd /oasis/scratch/comet/jmccorri/temp_project/LONGEVITY/002_ALLDATA_6a/DENOVO\n",
    "\n",
    "export PATH=/opt/biotools/bowtie/bin:$PATH\n",
    "export PATH=/opt/biotools/samtools/bin:$PATH\n",
    "\n",
    "/opt/biotools/trinity/Trinity --seqType fq --JM 1000G --left /projects/ps-jcvi2/schork-lab/projects/Miller_Bird_RNAseq/TEST_EXE_METHODS_\n",
    "de_novo/21_R1_cat.fastq --right /projects/ps-jcvi2/schork-lab/projects/Miller_Bird_RNAseq/TEST_EXE_METHODS_de_novo/21_R2_cat.fastq --CPU\n",
    " 16 --bflyCPU 2 --min_kmer_cov 2\n",
    "\n",
    "date"
   ]
  },
  {
   "cell_type": "markdown",
   "metadata": {},
   "source": [
    "# SLURM Launch Methods and Memory Tracking"
   ]
  },
  {
   "cell_type": "code",
   "execution_count": null,
   "metadata": {
    "collapsed": true
   },
   "outputs": [],
   "source": [
    "%%bash\n",
    "\n",
    "# launch\n",
    "sbatch executable.sh\n",
    "\n",
    "# example memory tracking\n",
    "sacct -j 1313690 --format=JobID,JobName,Partition,MaxRSS,AveRSS,MaxRSSNode,ReqMem,MaxDiskRead,MaxVMSize,AveVMSize,NTasks,AllocCPUS,Elapsed\n",
    "\n",
    "# example memory tracking output\n",
    "# [ 14:09 : comet-ln2 : LONGEVITY ] > sacct -j 1313690 --format=JobID,JobName,Partition,MaxRSS,AveRSS,MaxRSSNode,ReqMem,MaxDiskRead,MaxVMSize,AveVMSize,NTasks,AllocCPUS,Elapsed\n",
    "#        JobID    JobName  Partition     MaxRSS     AveRSS MaxRSSNode     ReqMem  MaxDiskRead  MaxVMSize  AveVMSize   NTasks  AllocCPUS    Elapsed \n",
    "# ------------ ---------- ---------- ---------- ---------- ---------- ---------- ------------ ---------- ---------- -------- ---------- ---------- \n",
    "# 1313690      Trinity.P+ large-sha+                                      1000Gn                                                      1 2-20:31:36 \n",
    "# 1313690.bat+      batch            925662932K     16136K comet-30-+     1000Gn      111134M 927110200K    611616K        1          1 2-20:31:36 "
   ]
  },
  {
   "cell_type": "markdown",
   "metadata": {},
   "source": [
    "# Error Handling (De Novo)"
   ]
  },
  {
   "cell_type": "markdown",
   "metadata": {},
   "source": [
    "### SUCCESSFUL output includes the following line at the end of log files:\n",
    "\n",
    "Butterfly assemblies are written to /oasis/scratch/comet/jmccorri/temp_project/LONGEVITY/002_ALLDATA_6a/DENOVO/trinity_out_dir/Trinity.fasta\n",
    "\n",
    "### FAILED output includes the following error\n",
    "\n",
    "We are sorry, commands in file: [failed_butterfly_commands.70696.txt] failed.  :-( \n",
    "            \n",
    "### Relevant error tracking via community discussion:\n",
    "(note this error is linked to all Trinity releases prior to 2/2015)\n",
    "(TSCC has Trinity version: trinityrnaseq_r20140717 installed, prior to the fix.)\n",
    "            \n",
    "Option A - Easy) \n",
    "Rerun Trinity executable (existing), which will automatically restart at the relevant end point\n",
    "http://seqanswers.com/forums/archive/index.php/t-50262.html\n",
    "    \n",
    "Option B - Harder) \n",
    "Update the butterfly instance to v 2.0.4 and re-execute Trinity from automatic restart point\n",
    "https://groups.google.com/forum/#!topic/trinityrnaseq-users/yzWEcQMWkhw\n",
    "    \n",
    "Option C - Slowest)\n",
    "Update trinity to the newest release.  Re-launch task from start.\n",
    "        \n",
    "### Successful re-execution methods\n",
    "\n",
    "TBA"
   ]
  },
  {
   "cell_type": "markdown",
   "metadata": {},
   "source": [
    "# Reduced Dataset Testing : Mapping"
   ]
  },
  {
   "cell_type": "code",
   "execution_count": null,
   "metadata": {
    "collapsed": true
   },
   "outputs": [],
   "source": [
    "%%bash\n",
    "\n",
    "### 001_REDUCED_CVG_TESTCASE_6a/20151120_mapping.sh\n",
    "\n",
    "#!/bin/bash\n",
    "#SBATCH -p large-shared\n",
    "#SBATCH -N 1\n",
    "#SBATCH --ntasks 1\n",
    "#SBATCH --mem=500G\n",
    "#SBATCH -t 48:00:00\n",
    "#SBATCH -J Trinity.PECOMET\n",
    "#SBATCH --mail-user=\"jmccorri@eng.ucsd.edu\"\n",
    "#SBATCH --mail-type=\"all\"\n",
    "#SBATCH -A csd474\n",
    "#SBATCH --job-name=\"20151120_mapping_reduced_6a_chicken\"\n",
    "#SBATCH --output=\"hellompi.%j.%N.out\"\n",
    "module load biotools\n",
    "date\n",
    "\n",
    "cd /oasis/scratch/comet/jmccorri/temp_project/LONGEVITY/001_REDUCED_CVG_TESTCASE_6a/MAPPING_chicken_20151120\n",
    "\n",
    "export PATH=/opt/biotools/bowtie/bin:$PATH\n",
    "export PATH=/opt/biotools/samtools/bin:$PATH\n",
    "export PATH=/opt/biotools/gmap_gsnap/bin:$PATH\n",
    "\n",
    "/opt/biotools/trinity/Trinity --seqType fq --JM 500G --left /projects/ps-jcvi2/schork-lab/projects/Miller_Bird_RNAseq/TEST_EXE_METHODS_d\n",
    "e_novo/21_R1_reduced.fastq --right /projects/ps-jcvi2/schork-lab/projects/Miller_Bird_RNAseq/TEST_EXE_METHODS_de_novo/21_R2_reduced.fast\n",
    "q --CPU 12 --genome /projects/ps-jcvi2/schork-lab/projects/Miller_Bird_RNAseq/chicken/Gallus_gallus.WASHUC2.70.cdna.all.fa --genome_guid\n",
    "ed_max_intron 10000 --bflyCPU 2 --min_kmer_cov 2\n",
    "\n",
    "date"
   ]
  },
  {
   "cell_type": "markdown",
   "metadata": {},
   "source": [
    "# Error Handling (Mapping)"
   ]
  },
  {
   "cell_type": "markdown",
   "metadata": {},
   "source": [
    "### FAILED output includes the line:\n",
    "\n",
    "We are sorry, commands in file: [FailedCommands] failed.  :-( \n",
    "\n",
    "### relevant error tracking via community discussion:\n",
    "          \n",
    "TBA\n",
    "    \n",
    "### successful re-execution methods\n",
    "            \n",
    "TBA"
   ]
  },
  {
   "cell_type": "markdown",
   "metadata": {},
   "source": [
    "# Test Post-De Novo Evaluation Methods (1/2 - Diff. Exp Calls)"
   ]
  },
  {
   "cell_type": "code",
   "execution_count": null,
   "metadata": {
    "collapsed": true
   },
   "outputs": [],
   "source": [
    "%%bash\n",
    "\n",
    "# Example run\n",
    "\n",
    "cd /oasis/scratch/comet/jmccorri/temp_project/LONGEVITY/002_ALLDATA_6a/GMAP\n",
    "\n",
    "/opt/biotools/trinity/util/align_and_estimate_abundance.pl --seqType fq --left /projects/ps-jcvi2/schork-lab/projects/Miller_Bird_RNAseq/TEST_EXE_METHODS_de_novo/21_R1_cat.fastq --right /projects/ps-jcvi2/schork-lab/projects/Miller_Bird_RNAseq/TEST_EXE_METHODS_de_novo/21_R2_cat.fastq --transcripts /oasis/scratch/comet/jmccorri/temp_project/LONGEVITY/002_ALLDATA_6a/DENOVO/trinity_out_dir/Trinity.fasta --output_prefix 6a_DENOVO --est_method RSEM --aln_method bowtie --trinity_mode --prep_reference"
   ]
  },
  {
   "cell_type": "markdown",
   "metadata": {},
   "source": [
    "# Test Post-De Novo Evaluation Methods (2/2 - Visualization)"
   ]
  },
  {
   "cell_type": "code",
   "execution_count": null,
   "metadata": {
    "collapsed": true
   },
   "outputs": [],
   "source": [
    "%%bash\n",
    "\n",
    "cd /oasis/scratch/comet/jmccorri/temp_project/LONGEVITY/002_ALLDATA_6a/GMAP_VIZ\n",
    "\n",
    "cp /projects/ps-jcvi2/schork-lab/projects/Miller_Bird_RNAseq/chicken/Gallus_gallus.WASHUC2.70.cdna.all.fa .\n",
    "\n",
    "# prepare consensus for alignment\n",
    "/opt/biotools/gmap_gsnap/bin/gmap_build -d genome -D . -k 13 Gallus_gallus.WASHUC2.70.cdna.all.fa\n",
    "\n",
    "# execute alignment\n",
    "gmap -n 0 -D . -d /oasis/scratch/comet/jmccorri/temp_project/LONGEVITY/002_ALLDATA_6a/DENOVO/trinity_out_dir/Trinity.fasta -f samse > trinity_gmap.sam\n",
    "\n",
    "# convert to sorted bam\n",
    "/opt/biotools/samtools/bin/samtools view -Sb trinity_gmap.sam > trinity_gmap.bam\n",
    "/opt/biotools/samtools/bin/samtools sort trinity_gmap.bam trinity_gmap\n",
    "/opt/biotools/samtools/bin/samtools index trinity_gmap.bam\n",
    "\n",
    "# prep genome for tophat\n",
    "/opt/biotools/bowtie/bin/bowtie-build \n",
    "/opt/biotools/tophat/bin/tophat\n",
    "/opt/biotools/samtools/bin/samtools"
   ]
  },
  {
   "cell_type": "markdown",
   "metadata": {},
   "source": [
    "# Bulk Processing Files"
   ]
  },
  {
   "cell_type": "code",
   "execution_count": null,
   "metadata": {
    "collapsed": true
   },
   "outputs": [],
   "source": [
    "TBA"
   ]
  }
 ],
 "metadata": {
  "kernelspec": {
   "display_name": "Python 2",
   "language": "python",
   "name": "python2"
  },
  "language_info": {
   "codemirror_mode": {
    "name": "ipython",
    "version": 2
   },
   "file_extension": ".py",
   "mimetype": "text/x-python",
   "name": "python",
   "nbconvert_exporter": "python",
   "pygments_lexer": "ipython2",
   "version": "2.7.11"
  }
 },
 "nbformat": 4,
 "nbformat_minor": 0
}
