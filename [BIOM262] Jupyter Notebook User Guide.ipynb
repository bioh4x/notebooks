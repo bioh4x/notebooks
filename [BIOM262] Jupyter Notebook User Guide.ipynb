{
 "cells": [
  {
   "cell_type": "markdown",
   "metadata": {},
   "source": [
    "# BIOM262 : Quantitative Methods in Genetics and Genomics \n",
    "Jupyter Notebook processing guide.  \n",
    "Winter 2016\n",
    "TA J. McCorrison\n",
    "\n",
    "#### Table of Contents\n",
    "- My First Jupyter Notebook\n",
    "- Cell Types\n",
    "- Markdown Language\n",
    "- Intro to Dynamic Code Execution\n",
    "- Advanced Processing Methods\n",
    "    - Dynamic Visualization with R\n",
    "    - Another Advanced Processing Example\n",
    "- Additional Resources"
   ]
  },
  {
   "cell_type": "markdown",
   "metadata": {},
   "source": [
    "# My First Jupyter Notebook\n",
    "\n",
    "Check your python version:  \n",
    "* `python -V`\n",
    "\n",
    "Install the appropriate version of Anaconda, based on the python version:  \n",
    "* https://www.continuum.io/downloads\n",
    "        \n",
    "Install jupyter:  \n",
    "* `conda install jupyter`\n",
    "    \n",
    "Start jupyter notebook server:\n",
    "* `jupyter notebook`\n",
    "\n",
    "Connect to the jupyter notebook server:\n",
    "* http://localhost:8888/\n",
    "    \n",
    "Start a new notebook using the dropdown menu in the top right of the screen:\n",
    "![New doc image reference](newdoc.png \"New doc image reference\")"
   ]
  },
  {
   "cell_type": "markdown",
   "metadata": {},
   "source": [
    "# Cell Types\n",
    "\n",
    "#### Markdown and Heading:\n",
    "- Formatted text using markdown language\n",
    "    \n",
    "#### Code:\n",
    "- Input/Output dynamic processing entries\n",
    "    \n",
    "#### Raw NBConvert (Raw):\n",
    "- No input/outp;ut or markdown processing.  Unprocessed text.\n",
    "    \n",
    "**To edit the type of any cell**, select it, then use the dropdown menu at the top of the screen.\n",
    "![New doc image reference](types.png \"New doc image reference\")\n",
    "\n",
    "**To insert a new cell**, use the Insert option in the toolbar.\n",
    "![New doc image reference](insert.png \"New doc image reference\")\n",
    "\n",
    "**To edit any cell,** double-click on it.\n",
    "\n",
    "**To execute the contents of any cell (or visualize markdown language),** hit the \"execute\" button in the toolbar (play/pause symbol):\n",
    "![New doc image reference](exe.png \"New doc image reference\")"
   ]
  },
  {
   "cell_type": "markdown",
   "metadata": {},
   "source": [
    "# Markdown Language Basics\n",
    "\n",
    "### Full details in the jupyter notebook user guide:\n",
    "    \n",
    "- http://jupyter.cs.brynmawr.edu/hub/dblank/public/Jupyter%20Notebook%20Users%20Manual.ipynb#4.-Using-Markdown-Cells-for-Writing\n",
    "\n",
    "### Quick Guide to Markdown Syntax\n",
    "\n",
    "#### Headers:\n",
    "- Prepend text with \"#\" or \"##\" depending on size of desired header text (up to header size 6 = \"######\").  \n",
    "- See the 2 headers above for examples of 1 and 2 level header sizes.\n",
    "    \n",
    "#### Formatting:\n",
    "- Markdown does not automatically hard-wrp carriage returns.\n",
    "    - Insert your own break by ending the line with two spaces and then typing Return.\n",
    "- *Italics* = 1 \"*\" or \"_\"\n",
    "- **Bold** = 2 \"**\" or \"__\"\n",
    "- `monospace` text (for code) is initiated by a prepending '\\`' character\n",
    "- Use \"\\\" or a preceeding tab to remove formatting issues caused by markdown language syntax.\n",
    "    - The '\\`' monospace character also works.\n",
    "    \n",
    "    \\\\- This is not a list  \n",
    "    \\\\-- When I do this\n",
    "\n",
    "#### Quotes\n",
    "- Quotes require the use of a prepending \">\", at a count matching the quote depth.\n",
    "- \\>example\n",
    "- \\>\\>subexample\n",
    "    \n",
    "> example\n",
    ">> subexample\n",
    "    \n",
    "#### Lists\n",
    "- Lists use a \"-\", \"*\", or \"+\".  Use tabs to modify list depth.\n",
    "- Tabs reduce markdown to raw text so lists are important!  \n",
    "\n",
    "#### Links\n",
    "    Normal link example:\n",
    "    [Class Website](http://en.wikipedia.org \"Class Website\")\n",
    " \n",
    "[Class Website](http://en.wikipedia.org \"Class Website\")\n",
    "\n",
    "#### Tables\n",
    "    Minimal example:\n",
    "    SampleID|GeneID|ExpressionValue\n",
    "    -|-|-|-\n",
    "    A|ACTB|40\n",
    "    B|ACTB|9500\n",
    "    C|ACTB|0\n",
    "    \n",
    "SampleID|GeneID|ExpressionValue\n",
    "-|-|-|-\n",
    "A|ACTB|40\n",
    "B|ACTB|9500\n",
    "C|ACTB|0\n",
    "\n",
    "#### LaTeX\n",
    "- Use \"\\$\" signs to indicate LaTeX formulas:\n",
    "- \\${a \\choose a_1,a_2} $\n",
    "\n",
    "${a \\choose a_1,a_2}$\n",
    "\n",
    "#### Images\n",
    "- `![Example image](http://icons.iconarchive.com/icons/icons-land/medical/256/Body-DNA-icon.png \"Example image\")`\n",
    "\n",
    "![Example image](http://icons.iconarchive.com/icons/icons-land/medical/256/Body-DNA-icon.png \"Example image\")"
   ]
  },
  {
   "cell_type": "markdown",
   "metadata": {},
   "source": [
    "# Intro to Dynamic Code Execution\n",
    "\n",
    "Jupyter notebook allows for test executions for over 50 programming languages within the browser.  See the full list of supported tools here:\n",
    "https://github.com/ipython/ipython/wiki/IPython-kernels-for-other-languages\n",
    "- Python is the default language\n",
    "- Use \"%%\" (magic commands) to delineate alternative languages (see below.)\n",
    "- Output is direct from the Kernel and is launched individually for each cell (ie. asycronous execution.)\n",
    "\n",
    "### The obligatory (python) example:\n",
    "- Click on the cell below.\n",
    "- Hit the \"execute\" button (play/pause symbol) or CTRL+Enter to launch the code\n",
    "![New doc image reference](exe.png \"New doc image reference\")"
   ]
  },
  {
   "cell_type": "code",
   "execution_count": 3,
   "metadata": {
    "collapsed": false
   },
   "outputs": [
    {
     "name": "stdout",
     "output_type": "stream",
     "text": [
      "Hello World\n"
     ]
    }
   ],
   "source": [
    "a = \"Hello World\"\n",
    "print(a)"
   ]
  },
  {
   "cell_type": "markdown",
   "metadata": {},
   "source": [
    "#### Now let's try again using bash:"
   ]
  },
  {
   "cell_type": "code",
   "execution_count": 14,
   "metadata": {
    "collapsed": false,
    "scrolled": true
   },
   "outputs": [
    {
     "name": "stdout",
     "output_type": "stream",
     "text": [
      "Hello World\n"
     ]
    }
   ],
   "source": [
    "%%bash\n",
    "echo \"Hello World\""
   ]
  },
  {
   "cell_type": "markdown",
   "metadata": {},
   "source": [
    "#### And perl:"
   ]
  },
  {
   "cell_type": "code",
   "execution_count": 15,
   "metadata": {
    "collapsed": false,
    "scrolled": true
   },
   "outputs": [
    {
     "name": "stdout",
     "output_type": "stream",
     "text": [
      "Hello World\n"
     ]
    }
   ],
   "source": [
    "%%perl\n",
    "use strict;\n",
    "use warnings;\n",
    "my $a = \"Hello World\";\n",
    "print \"$a\\n\";"
   ]
  },
  {
   "cell_type": "markdown",
   "metadata": {},
   "source": [
    "# Advanced Processing Methods\n",
    "\n",
    "#### Magic commands\n",
    "\n",
    "- *updates required*\n",
    "- x\n",
    "\n",
    "#### %load\n",
    "\n",
    "- x\n",
    "\n",
    "#### x\n",
    "\n",
    "- x"
   ]
  },
  {
   "cell_type": "markdown",
   "metadata": {},
   "source": [
    "### Dynamic Visualization with R\n",
    "\n",
    "#### ConfiguringR package ZMQ\n",
    "- https://github.com/armstrtw/rzmq\n",
    "\n",
    "`xcode-select --install`  \n",
    "`brew install zmq`  \n",
    "`R`  \n",
    "`install.packages(c('rzmq','repr','IRkernel','IRdisplay'),repos = c('http://irkernel.github.io/', getOption('repos')), type = 'source')`  \n",
    "`IRkernel::installspec(user = FALSE)`"
   ]
  },
  {
   "cell_type": "code",
   "execution_count": 25,
   "metadata": {
    "collapsed": false
   },
   "outputs": [
    {
     "ename": "SyntaxError",
     "evalue": "invalid syntax (<ipython-input-25-df79b7e65f5d>, line 1)",
     "output_type": "error",
     "traceback": [
      "\u001b[0;36m  File \u001b[0;32m\"<ipython-input-25-df79b7e65f5d>\"\u001b[0;36m, line \u001b[0;32m1\u001b[0m\n\u001b[0;31m    my exampledf = data.frame(\u001b[0m\n\u001b[0m               ^\u001b[0m\n\u001b[0;31mSyntaxError\u001b[0m\u001b[0;31m:\u001b[0m invalid syntax\n"
     ]
    }
   ],
   "source": [
    "my exampledf = data.frame(\n",
    "    x = runif(n=100,min=0,max=13),\n",
    "    y=2+0.8x+rexp(n=1000,3)\n",
    ")\n",
    "my examplelinreg = lm(y-x, data = mydata)\n",
    "par(mfrow = c(2,2))\n",
    "plot(mylinreg)"
   ]
  },
  {
   "cell_type": "markdown",
   "metadata": {},
   "source": [
    "### Another Advanced Processing Example"
   ]
  },
  {
   "cell_type": "code",
   "execution_count": 1,
   "metadata": {
    "collapsed": false
   },
   "outputs": [],
   "source": [
    "# TBA"
   ]
  },
  {
   "cell_type": "markdown",
   "metadata": {},
   "source": [
    "*Updates required to this portion of the document!*"
   ]
  },
  {
   "cell_type": "markdown",
   "metadata": {},
   "source": [
    "# Additional Resources\n",
    "\n",
    "- The official Jupyter Notebook user manual:\n",
    "-- http://jupyter-notebook.readthedocs.org/en/latest/notebook.html\n",
    "- Andy Gross' guide to iPython notebook (BISB)\n",
    "-- http://nbviewer.ipython.org/gist/theandygross/4724581\n",
    "- Duke's guide to the iPython notebook (and the python programming language)\n",
    "-- http://people.duke.edu/~ccc14/sta-663/IPythonNotebookIntroduction.html\n",
    "- \n",
    "\n",
    "Please contact your TA, Jamison McCorrison (jmccorri@ucsd.edu) or Lecuturer Olga Botvannik with any questions."
   ]
  }
 ],
 "metadata": {
  "kernelspec": {
   "display_name": "Python 2",
   "language": "python",
   "name": "python2"
  },
  "language_info": {
   "codemirror_mode": {
    "name": "ipython",
    "version": 2
   },
   "file_extension": ".py",
   "mimetype": "text/x-python",
   "name": "python",
   "nbconvert_exporter": "python",
   "pygments_lexer": "ipython2",
   "version": "2.7.11"
  }
 },
 "nbformat": 4,
 "nbformat_minor": 0
}
