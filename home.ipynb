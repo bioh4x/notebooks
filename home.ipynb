{
 "cells": [
  {
   "cell_type": "markdown",
   "metadata": {},
   "source": [
    "# CMM262/BIOM262/BGGN237: Quantitative Methods in Genetics and Genomics\n",
    "**University of California San Diego (UCSD)**  \n",
    "**Winter 2016**  \n",
    "\n",
    "#### Contact us:\n",
    "Lead Instructor [Dr. Gene Yeo](mailto:geneyeo@ucsd.edu \"Gene Yeo\")  \n",
    "Teaching Assistant [Olga Botvinnik](mailto:obotvinn@ucsd.edu)  \n",
    "Teaching Assistant [Jamison McCorrison](mailto:jmccorri@eng.ucsd.edu)  \n",
    "All other lecturer contact info provided below.  \n",
    "\n",
    "\n",
    "#### Course Description \n",
    "Quantitative Methods in Genetics and Genomics is designed to teach experimental and analytical approaches in modern genetics and genomics, from experimental design through data analysis in each of several topic areas. Lecturers this year include Gene Yeo, Scott Rifkin, Bruce Hamilton, Rob Knight, Olivier Harismendy, Nicholas Schork, Aaron Chang and Hannah Carter.  \n",
    "*This course is a requirement for students in the UCSD Genetics Training Program. 4 units.*"
   ]
  },
  {
   "cell_type": "markdown",
   "metadata": {},
   "source": [
    "## Syllabus / Table of Contents\n",
    "\n",
    "| Module Num. | Tues | Thurs | Lecturer | Topic |  |  |  |\n",
    "| ----------- | ---- | ----- | -------- | ----- | --------- | ---------- | ---------- |\n",
    "| **1** | 1/5/16 | 1/7/16 | **Shashank Sathe, [Gene Yeo](http://yeolab.ucsd.edu/yeolab/Home.html)** ([contact](mailto:geneyeo@ucsd.edu)) | Python, R and Unix introduction | [Lecture](https://github.com/bioh4x/notebooks/blob/master/Module1.ipynb) | [Homework](https://github.com/biom262/biom262-2016/blob/master/weeks/week01/homework.ipynb) | Solution |\n",
    "| **2** | 1/12/16 | 1/14/16 | **[Scott Rifkin](http://labs.biology.ucsd.edu/rifkin/)** ([contact](mailto:sarifkin@ucsd.edu))  | Statistic; logic of testing hypotheses; estimation | Lecture | Homework | Solution |\n",
    "| **3** | 1/19/16 | 1/21/16 | **[Bruce Hamilton](http://cmm.ucsd.edu/Lab_Pages/hamilton/bah/)** ([contact](mailto:bah@ucsd.edu)) | Low throughput methodology, qRT PCR | Lecture | Homework | Solution |\n",
    "| **4** | 1/26/16 | 1/28/16 | **Olga Botvinnik, Eric Van Nostrand** ([contact](mailto:elvannostrand@ucsd.edu))**,Gene Yeo** | NGS Technology, RNA-seq, tools in flotilla (Clustering, Heatmaps etc), iGV | Lecture | Homework | Solution |\n",
    "| **5** | 2/2/16 | 2/4/16 | **[Rob Knight](https://knightlab.ucsd.edu/)** ([contact](mailto:rknight@ucsd.edu)) | Microbiome | Lecture | Homework | Solution |\n",
    "| **6** | 2/9/16 | 2/11/16 | **[Olivier Harismendy](http://moores.ucsd.edu/oncogx/)** ([contact](mailto:oharismendy@ucsd.edu@ucsd.edu)) | \"NGS sequencing. Analysis file standards. SNPs and SNVs in cancer. Querying public databases. Variant annotation, filtering and statistical associations. | Lecture | Homework | Solution |\n",
    "| **7** | 2/16/16 | 2/18/16 | **Aaron Chang** ([contact](mailto:anchang@ucsd.edu@ucsd.edu)) | Translating genomic findings into clinically relevant results. Cloud  computing resources. N of 1 case study. Visualization and interpretation in the context of precision medicine. | Lecture | Homework | Solution |\n",
    "| **8** | 2/23/16 | 2/25/16 | **[Nicholas Schork](http://www.scripps.edu/schork/Schork_Lab_Members.html)** ([contact](mailto:nschork@ucsd.edu)) | Modern Applied Population Genetics. Applied Population Genetic. Admixture Mapping. | Lecture | Homework | Solution |\n",
    "| **9** | 3/1/16 | 3/3/16 | **[Hannah Carter](http://med.ucsd.edu/divisions/med-genetics/research/Pages/carter-lab.aspx)** ([contact](mailto:hkcarter@ucsd.edu@ucsd.edu)) | Genome-wide associations studies. | Lecture | Homework | Solution |\n",
    "| **10** | 3/8/16 | 3/10/16 | **Hannah Carter** | Prioritizing genetic variation. Inherited variation. Somatic variation. | Lecture | Homework | Solution |"
   ]
  },
  {
   "cell_type": "markdown",
   "metadata": {},
   "source": [
    "## Final\n",
    "\n",
    "**Thursday March 17, 2016**\n",
    "**7:00pm - 9:59pm**\n",
    "**Location TBA**\n",
    "\n",
    "\n",
    "* * *"
   ]
  }
 ],
 "metadata": {
  "kernelspec": {
   "display_name": "Python 2",
   "language": "python",
   "name": "python2"
  },
  "language_info": {
   "codemirror_mode": {
    "name": "ipython",
    "version": 2
   },
   "file_extension": ".py",
   "mimetype": "text/x-python",
   "name": "python",
   "nbconvert_exporter": "python",
   "pygments_lexer": "ipython2",
   "version": "2.7.11"
  }
 },
 "nbformat": 4,
 "nbformat_minor": 0
}
