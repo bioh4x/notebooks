{
 "cells": [
  {
   "cell_type": "markdown",
   "metadata": {},
   "source": [
    "# Statistics: Logic of Testing Hypotheses and Estimation\n",
    "**Prof. Scott Rifkin**  \n",
    "**Winter 2016**\n",
    "\n",
    "* * *\n",
    "\n",
    "# Day One (1/12/2016)\n",
    "\n",
    "## Getting Started \n",
    "\n",
    "### [Distribution Examples](http://lock5stat.com/statkey/)\n",
    "Instructions... TBA\n",
    "\n",
    "### [Normal Distribution](http://www.zoology.ubc.ca/~whitlock/kingfisher/SamplingNormal.htm)\n",
    "Instructions... TBA\n",
    "\n",
    "### [Sampling at a Confidence Interval](http://www.zoology.ubc.ca/~whitlock/kingfisher/CIMean.htm)\n",
    "Instructions... TBA"
   ]
  },
  {
   "cell_type": "markdown",
   "metadata": {},
   "source": [
    "* * * \n",
    "\n",
    "## Installing RStudio\n",
    "\n",
    "TBA\n",
    "\n",
    "\n",
    "## Required FIles\n",
    "\n",
    "* **tuesday12JanCode.R** has R code for some examples.  \n",
    "** It also has links to a few websites\n",
    "** It sources and then calls some other custom functions in dotPlotFuncs.R\n",
    "** It also uses the package rgl to make a 3D scatterplot - this is nice but not essential if the jupyter notebook can't do that.\n",
    "\n",
    "* **\"Shiny power applet\"**\n",
    "** If you could mold these into a jupyter notebook, I can go in and edit it and put in headers."
   ]
  },
  {
   "cell_type": "markdown",
   "metadata": {},
   "source": [
    "* * * \n",
    "\n",
    "## R Basics\n",
    "\n",
    "X"
   ]
  },
  {
   "cell_type": "markdown",
   "metadata": {},
   "source": [
    "* * *\n",
    "\n",
    "# Instructions\n",
    "\n",
    "This applet demonstrates a one-sided test.  The <font style=\"background-color: #0099FF\">blue</font> & <font style=\"background-color: #FF3366\">red</font> striped distribution is the null distribution, and the \n",
    "<font style=\"background-color: #66FFFF\">cyan</font> and <font style=\"background-color: #FFFF99\">yellow</font> distribution is the hypothesized alternative distribution (in reality we don't know what the actual parameter value is). The dashed <font style=\"background-color: #00CC33\">green</font> line marks the p&#770; cutoff value that gives the specified <font style=\"background-color: #FF3366\">significance level (or false alarm/type I error rate)</font>.<br/><br/>\n",
    "There are 4 possible outcomes when doing a hypothesis test:<br/><br/>\n",
    "<font style=\"background-color: #0099FF\">\n",
    "<b>GOOD</b>: The null hypothesis could be true and you decide that your data is consistent/agrees with it - you fail to reject it. This rate is known as the true negative rate.</font><br/><br/>\n",
    "<font style=\"background-color: #FF3366\">\n",
    "<b>FALSE ALARM</b>: Null hypothesis is true but you decide that your data disagrees with it and you reject it. This is also called the Type I error rate or the false positive rate.</font><br/><br/>\n",
    "<font style=\"background-color: #66FFFF\"> \n",
    "<b>GOOD</b>: Alternative hypothesis is true and you reject the null hypothesis. The fraction of the alternative distribution that is cyan is called the <b>power</b> of the hypothesis test (also the true positive rate).</font><br/><br/>\n",
    "<font style=\"background-color: #FFFF99\"> \n",
    "<b>MISSED OPPORTUNITY</b>: The alternative hypothesis is true but you decide that your data is consistent/agrees with the null hypothesis, so you fail to reject the null. This is also called the Type II error rate or the false negative rate.</font><br/><br/>\n",
    "  \n",
    "- Move the sliders around to see how the rates of error change depending on where you set your significance level cutoff, your sample size, and what the actual (but, in reality, unknown!) real parameter value is (the slider called \"Alternative &pi;\"). <br/>- If you press the triangles, the applet will animate that slider.<br/>\n",
    "<br/><br/>\n",
    "<h8>This applet is based on a java applet that can be found <a href =\"http://intuitor.com/statistics/T1T2Errors.html\" target=\"_blank\">here</a></h8>"
   ]
  },
  {
   "cell_type": "markdown",
   "metadata": {},
   "source": [
    "* * *\n",
    "\n",
    "# Instructions\n",
    "\n",
    "This applet demonstrates a one-sided test.  The <font style=\"background-color: #A292FE\">purple</font> distribution is the null distribution, and the <font style=\"background-color: #F49816\">orange</font> distribution is the hypothesized alternative distribution (in reality we don't know what the actual parameter value is). The solid colors represent the regions where the inference matches reality.  The dotted regions represent the regions of error. The dashed <font style=\"background-color: #00CC33\">green</font> line marks the p&#770; cutoff value that gives the specified <font style=\"background-color: #DDD7FC\">significance level (or false alarm/type I error rate)</font>.<br/><br/>\n",
    "There are 4 possible outcomes when doing a hypothesis test:<br/><br/>\n",
    "<font style=\"background-color: #A292FE\">\n",
    "<b>GOOD</b>: The null hypothesis could be true and you decide that your data is consistent/agrees with it - you fail to reject it. This rate is known as the true negative rate.  This is the fraction of the null distribution that is solid purple</font><br/><br/>\n",
    "<font style=\"background-color: #DDD7FC\">\n",
    "<b>FALSE ALARM</b>: Null hypothesis is true but you decide that your data disagrees with it and you reject it. This is also called the Type I error rate or the false positive rate.  This is the fraction of the null distribution that is dotted purple.</font><br/><br/>\n",
    "<font style=\"background-color: #F49816\"> \n",
    "<b>GOOD</b>: Alternative hypothesis is true and you reject the null hypothesis. The fraction of the alternative distribution that is solid orange is called the <b>power</b> of the hypothesis test (also the true positive rate).</font><br/><br/>\n",
    "<font style=\"background-color: #FFD38A\"> \n",
    "<b>MISSED OPPORTUNITY</b>: The alternative hypothesis is true but you decide that your data is consistent/agrees with the null hypothesis, so you fail to reject the null. This is also called the Type II error rate or the false negative rate. This is the fraction of the alternative distribution that is dotted orange.</font><br/><br/>\n",
    "  \n",
    "- Move the sliders around to see how the rates of error change depending on where you set your significance level cutoff, your sample size, and what the actual (but, in reality, unknown!) real parameter value is (the slider called \"Alternative &pi;\"). <br/>- If you press the triangles, the applet will animate that slider.<br/>\n",
    "<br/><br/>\n",
    "<h8>This applet is based on a java applet that can be found <a href =\"http://intuitor.com/statistics/T1T2Errors.html\" target=\"_blank\">here</a></h8>\n",
    "\n"
   ]
  },
  {
   "cell_type": "code",
   "execution_count": 3,
   "metadata": {
    "collapsed": false
   },
   "outputs": [
    {
     "ename": "SyntaxError",
     "evalue": "non-keyword arg after keyword arg (<ipython-input-3-7dfc2afd4469>, line 8)",
     "output_type": "error",
     "traceback": [
      "\u001b[0;36m  File \u001b[0;32m\"<ipython-input-3-7dfc2afd4469>\"\u001b[0;36m, line \u001b[0;32m8\u001b[0m\n\u001b[0;31m    h4(\"Error and Power Applet\"),\u001b[0m\n\u001b[0;31mSyntaxError\u001b[0m\u001b[0;31m:\u001b[0m non-keyword arg after keyword arg\n"
     ]
    }
   ],
   "source": [
    "library(shiny)\n",
    "\n",
    "shinyUI(\n",
    "  fluidPage(\n",
    "    \n",
    "\n",
    "    title=\"Error and Power Applet\",\n",
    "    h4(\"Error and Power Applet\"),\n",
    "    fluidRow(\n",
    "      column(9,\n",
    "             plotOutput(\"errorPlot\")\n",
    "             ,          \n",
    "             fluidRow(       \n",
    "               column(5,offset=4,\n",
    "                      sliderInput(\"piHA\",HTML(\"Alternative &#960;\"),min=.28,max=.76,value=.62,animate=T,step=0.02,width=\"100%\")\n",
    "               ),\n",
    "               column(3,\"\"\n",
    "               )\n",
    "             ),\n",
    "             fluidRow(\n",
    "               column(5,\n",
    "                      sliderInput(\"sampleSize\",\"Sample size\",min=40,max=1000,value=100,step=10,animate=T,width=\"100%\")\n",
    "               ),\n",
    "               column(5,offset=2,\n",
    "                      sliderInput(\"sigLevel\",\"Significance level\",min=0.005, max=0.2,value=0.05,width=\"100%\",step=0.005,animate=T)\n",
    "               )  \n",
    "             )\n",
    "      ),\n",
    "      column(3,\n",
    "             h5(\"Reality is in the columns\"),\n",
    "             \n",
    "             tableOutput(\"errorTable\"),\n",
    "             h5(\"Your inference is in the rows\")\n",
    "             ,\n",
    "             fluidRow(\n",
    "               column(12,\n",
    "                      textOutput(\"statsSD\")\n",
    "               )\n",
    "             ),fluidRow(\n",
    "               column(12,\n",
    "                      textOutput(\"statsPHAT\")\n",
    "               )\n",
    "             )\n",
    "      )\n",
    "    ),\n",
    "    fluidRow(\n",
    "      column(9,\n",
    "             uiOutput(\"includeHTML\")\n",
    "      ),\n",
    "      column(3,\n",
    "             radioButtons(\"dots\",label=h5(\"Color scheme\"),\n",
    "                          choices=list(\"Multicolored\"=0,\"Dotted (good for colorblind)\"=1),selected=1)\n",
    "      )\n",
    "    )\n",
    "    \n",
    "  )\n",
    ")\n"
   ]
  },
  {
   "cell_type": "code",
   "execution_count": null,
   "metadata": {
    "collapsed": true
   },
   "outputs": [],
   "source": []
  }
 ],
 "metadata": {
  "kernelspec": {
   "display_name": "Python 2",
   "language": "python",
   "name": "python2"
  },
  "language_info": {
   "codemirror_mode": {
    "name": "ipython",
    "version": 2
   },
   "file_extension": ".py",
   "mimetype": "text/x-python",
   "name": "python",
   "nbconvert_exporter": "python",
   "pygments_lexer": "ipython2",
   "version": "2.7.11"
  }
 },
 "nbformat": 4,
 "nbformat_minor": 0
}
