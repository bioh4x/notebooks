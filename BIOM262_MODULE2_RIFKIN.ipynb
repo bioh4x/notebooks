{
 "cells": [
  {
   "cell_type": "markdown",
   "metadata": {},
   "source": [
    "# Statistics: Logic of Testing Hypotheses and Estimation\n",
    "**Prof. Scott Rifkin**  \n",
    "**Winter 2016**\n",
    "\n",
    "## Day One (1/12/2016)\n",
    "\n",
    "For the first day, it will be an intro to the ideas of statistics - sampling distributions, null distributions, etc.  There are some nice applets out there for this:\n",
    "\n",
    "http://lock5stat.com/statkey/\n",
    "\n",
    "and a limited but well done set:\n",
    "http://www.zoology.ubc.ca/~whitlock/kingfisher/SamplingNormal.htm\n",
    "http://www.zoology.ubc.ca/~whitlock/kingfisher/CIMean.htm\n",
    "\n",
    "\n",
    "#### TA NOTES!\n",
    "- See this guide for \"hacking ... through frames using TV procedure\"\n",
    "-- http://www.exelisvis.com/Company/PressRoom/Blogs/IDLDataPointDetail/TabId/902/ArtMID/2926/ArticleID/14569/Hacking-Animations-on-Jupyter.aspx"
   ]
  },
  {
   "cell_type": "code",
   "execution_count": null,
   "metadata": {
    "collapsed": true
   },
   "outputs": [],
   "source": [
    "#TBA"
   ]
  },
  {
   "cell_type": "markdown",
   "metadata": {},
   "source": [
    "## Day Two (1/14/2016)\n",
    "\n",
    "- TBA"
   ]
  },
  {
   "cell_type": "code",
   "execution_count": null,
   "metadata": {
    "collapsed": true
   },
   "outputs": [],
   "source": [
    "#TBA"
   ]
  }
 ],
 "metadata": {
  "kernelspec": {
   "display_name": "Python 2",
   "language": "python",
   "name": "python2"
  },
  "language_info": {
   "codemirror_mode": {
    "name": "ipython",
    "version": 2
   },
   "file_extension": ".py",
   "mimetype": "text/x-python",
   "name": "python",
   "nbconvert_exporter": "python",
   "pygments_lexer": "ipython2",
   "version": "2.7.11"
  }
 },
 "nbformat": 4,
 "nbformat_minor": 0
}
